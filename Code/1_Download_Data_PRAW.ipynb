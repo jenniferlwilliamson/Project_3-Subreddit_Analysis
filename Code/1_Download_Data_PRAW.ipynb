{
 "cells": [
  {
   "cell_type": "markdown",
   "metadata": {},
   "source": [
    "# File Summary:\n",
    "\n",
    "This file downloads data from Reddit using the PRAW api (following the outline we did in the local lecture on PRAW).\n",
    "\n",
    "It takes the top 1000 posts, the newest 1000 posts, the most controversial 1000 posts, and the hottest 1000 posts (note that this may include some overlap).\n",
    "\n",
    "It also takes posts from the 'Republican' subreddit which has 153k members, and the 'democrats' subreddit which has 147k members.\n",
    "\n",
    "After downloading the posts, they are combined into one file politics.csv and saved to be used in other notebooks."
   ]
  },
  {
   "cell_type": "code",
   "execution_count": 2,
   "metadata": {},
   "outputs": [],
   "source": [
    "import pandas as pd\n",
    "import praw"
   ]
  },
  {
   "cell_type": "code",
   "execution_count": 3,
   "metadata": {},
   "outputs": [],
   "source": [
    "reddit = praw.Reddit(client_id = ,     #this is that personal use script key\n",
    "                     client_secret = , #this is that secret key\n",
    "                     user_agent = ,    #Whatever name you gave your application\n",
    "                     username = ,      #your Reddit user name\n",
    "                     password = )      #your Reddit password"
   ]
  },
  {
   "cell_type": "code",
   "execution_count": 4,
   "metadata": {},
   "outputs": [],
   "source": [
    "subreddit = reddit.subreddit('Republican') "
   ]
  },
  {
   "cell_type": "code",
   "execution_count": 31,
   "metadata": {},
   "outputs": [],
   "source": [
    "altsubreddit = reddit.subreddit('democrats')"
   ]
  },
  {
   "cell_type": "code",
   "execution_count": 100,
   "metadata": {},
   "outputs": [],
   "source": [
    "subreddit_hot = subreddit.hot(limit = 1000)\n",
    "subreddit_new = subreddit.new(limit = 1000)\n",
    "subreddit_controversial = subreddit.controversial(limit = 1000)\n",
    "subreddit_top = subreddit.top(limit = 1000)"
   ]
  },
  {
   "cell_type": "code",
   "execution_count": 101,
   "metadata": {},
   "outputs": [],
   "source": [
    "subreddit_hot_2 = altsubreddit.hot(limit = 1000)\n",
    "subreddit_new_2 = altsubreddit.new(limit = 1000)\n",
    "subreddit_controversial_2 = altsubreddit.controversial(limit = 1000)\n",
    "subreddit_top_2 = altsubreddit.top(limit = 1000)"
   ]
  },
  {
   "cell_type": "code",
   "execution_count": 102,
   "metadata": {},
   "outputs": [
    {
     "name": "stdout",
     "output_type": "stream",
     "text": [
      "hot\n",
      "new\n",
      "controversial\n",
      "top\n"
     ]
    }
   ],
   "source": [
    "topics_dict = { \"title\":[],\n",
    "                \"score\":[],\n",
    "                \"id\":[],\n",
    "                \"url\":[], \n",
    "                \"comms_num\": [],\n",
    "                \"created\": [],\n",
    "                \"body\":[],\n",
    "                'type':[]}\n",
    "\n",
    "#Use a for loop to take the posts gathered by the wrapper and place them into a dictionary.\n",
    "names = ['hot','new','controversial','top']\n",
    "wrappers_subreddit = [subreddit_hot, subreddit_new, subreddit_controversial, subreddit_top]\n",
    "\n",
    "for i in range(len(names)):\n",
    "    \n",
    "    name = names[i]\n",
    "    wrapper = wrappers_subreddit[i]\n",
    "    \n",
    "    print(name)\n",
    "\n",
    "    for item in wrapper:\n",
    "        topics_dict[\"title\"].append(item.title)\n",
    "        topics_dict[\"score\"].append(item.score)\n",
    "        topics_dict[\"id\"].append(item.id)\n",
    "        topics_dict[\"url\"].append(item.url)\n",
    "        topics_dict[\"comms_num\"].append(item.num_comments)\n",
    "        topics_dict[\"created\"].append(item.created)\n",
    "        topics_dict[\"body\"].append(item.selftext)\n",
    "        topics_dict['type'].append(name)"
   ]
  },
  {
   "cell_type": "code",
   "execution_count": 103,
   "metadata": {},
   "outputs": [
    {
     "name": "stdout",
     "output_type": "stream",
     "text": [
      "hot\n",
      "new\n",
      "controversial\n",
      "top\n"
     ]
    }
   ],
   "source": [
    "topics_dict2 = { \"title\":[],\n",
    "                \"score\":[],\n",
    "                \"id\":[],\n",
    "                \"url\":[], \n",
    "                \"comms_num\": [],\n",
    "                \"created\": [],\n",
    "                \"body\":[],\n",
    "                'type':[]}\n",
    "\n",
    "#Use a for loop to take the posts gathered by the wrapper and place them into a dictionary.\n",
    "\n",
    "#Use a for loop to take the posts gathered by the wrapper and place them into a dictionary.\n",
    "names = ['hot','new','controversial','top']\n",
    "wrappers_subreddit_2 = [subreddit_hot_2, \n",
    "                      subreddit_new_2, \n",
    "                      subreddit_controversial_2, \n",
    "                      subreddit_top_2]\n",
    "\n",
    "for i in range(len(names)):\n",
    "    \n",
    "    name = names[i]\n",
    "    wrapper = wrappers_subreddit_2[i]\n",
    "\n",
    "    print(name)\n",
    "     \n",
    "    for item in wrapper:\n",
    "        topics_dict2[\"title\"].append(item.title)\n",
    "        topics_dict2[\"score\"].append(item.score)\n",
    "        topics_dict2[\"id\"].append(item.id)\n",
    "        topics_dict2[\"url\"].append(item.url)\n",
    "        topics_dict2[\"comms_num\"].append(item.num_comments)\n",
    "        topics_dict2[\"created\"].append(item.created)\n",
    "        topics_dict2[\"body\"].append(item.selftext)\n",
    "        topics_dict2['type'].append(name)"
   ]
  },
  {
   "cell_type": "code",
   "execution_count": 104,
   "metadata": {},
   "outputs": [
    {
     "data": {
      "text/html": [
       "<div>\n",
       "<style scoped>\n",
       "    .dataframe tbody tr th:only-of-type {\n",
       "        vertical-align: middle;\n",
       "    }\n",
       "\n",
       "    .dataframe tbody tr th {\n",
       "        vertical-align: top;\n",
       "    }\n",
       "\n",
       "    .dataframe thead th {\n",
       "        text-align: right;\n",
       "    }\n",
       "</style>\n",
       "<table border=\"1\" class=\"dataframe\">\n",
       "  <thead>\n",
       "    <tr style=\"text-align: right;\">\n",
       "      <th></th>\n",
       "      <th>title</th>\n",
       "      <th>score</th>\n",
       "      <th>id</th>\n",
       "      <th>url</th>\n",
       "      <th>comms_num</th>\n",
       "      <th>created</th>\n",
       "      <th>body</th>\n",
       "      <th>type</th>\n",
       "    </tr>\n",
       "  </thead>\n",
       "  <tbody>\n",
       "    <tr>\n",
       "      <th>0</th>\n",
       "      <td>Here in PA every Sunday these people gather at...</td>\n",
       "      <td>1178</td>\n",
       "      <td>jdjge9</td>\n",
       "      <td>https://v.redd.it/sm9cx0cqsvt51</td>\n",
       "      <td>106</td>\n",
       "      <td>1.603068e+09</td>\n",
       "      <td></td>\n",
       "      <td>hot</td>\n",
       "    </tr>\n",
       "    <tr>\n",
       "      <th>1</th>\n",
       "      <td>John Paul is the computer repair shop owner wh...</td>\n",
       "      <td>671</td>\n",
       "      <td>jdgun0</td>\n",
       "      <td>https://www.reddit.com/gallery/jdgun0</td>\n",
       "      <td>125</td>\n",
       "      <td>1.603059e+09</td>\n",
       "      <td></td>\n",
       "      <td>hot</td>\n",
       "    </tr>\n",
       "    <tr>\n",
       "      <th>2</th>\n",
       "      <td>Yes, It Was The 'Affordable' Care Act That Inc...</td>\n",
       "      <td>382</td>\n",
       "      <td>jdg8un</td>\n",
       "      <td>https://www.forbes.com/sites/theapothecary/201...</td>\n",
       "      <td>73</td>\n",
       "      <td>1.603056e+09</td>\n",
       "      <td></td>\n",
       "      <td>hot</td>\n",
       "    </tr>\n",
       "    <tr>\n",
       "      <th>3</th>\n",
       "      <td>Latinos for Trump Car Rally in Miami</td>\n",
       "      <td>128</td>\n",
       "      <td>jdlhe6</td>\n",
       "      <td>https://i.redd.it/yszxdeescwt51.jpg</td>\n",
       "      <td>12</td>\n",
       "      <td>1.603075e+09</td>\n",
       "      <td></td>\n",
       "      <td>hot</td>\n",
       "    </tr>\n",
       "    <tr>\n",
       "      <th>4</th>\n",
       "      <td>Kids for Trump lemonade stand held by my son a...</td>\n",
       "      <td>40</td>\n",
       "      <td>jdqhbu</td>\n",
       "      <td>https://www.reddit.com/gallery/jdqhbu</td>\n",
       "      <td>4</td>\n",
       "      <td>1.603091e+09</td>\n",
       "      <td></td>\n",
       "      <td>hot</td>\n",
       "    </tr>\n",
       "  </tbody>\n",
       "</table>\n",
       "</div>"
      ],
      "text/plain": [
       "                                               title  score      id  \\\n",
       "0  Here in PA every Sunday these people gather at...   1178  jdjge9   \n",
       "1  John Paul is the computer repair shop owner wh...    671  jdgun0   \n",
       "2  Yes, It Was The 'Affordable' Care Act That Inc...    382  jdg8un   \n",
       "3               Latinos for Trump Car Rally in Miami    128  jdlhe6   \n",
       "4  Kids for Trump lemonade stand held by my son a...     40  jdqhbu   \n",
       "\n",
       "                                                 url  comms_num       created  \\\n",
       "0                    https://v.redd.it/sm9cx0cqsvt51        106  1.603068e+09   \n",
       "1              https://www.reddit.com/gallery/jdgun0        125  1.603059e+09   \n",
       "2  https://www.forbes.com/sites/theapothecary/201...         73  1.603056e+09   \n",
       "3                https://i.redd.it/yszxdeescwt51.jpg         12  1.603075e+09   \n",
       "4              https://www.reddit.com/gallery/jdqhbu          4  1.603091e+09   \n",
       "\n",
       "  body type  \n",
       "0       hot  \n",
       "1       hot  \n",
       "2       hot  \n",
       "3       hot  \n",
       "4       hot  "
      ]
     },
     "execution_count": 104,
     "metadata": {},
     "output_type": "execute_result"
    }
   ],
   "source": [
    "df = pd.DataFrame(topics_dict)\n",
    "df.head()"
   ]
  },
  {
   "cell_type": "code",
   "execution_count": 105,
   "metadata": {},
   "outputs": [
    {
     "data": {
      "text/plain": [
       "(3963, 8)"
      ]
     },
     "execution_count": 105,
     "metadata": {},
     "output_type": "execute_result"
    }
   ],
   "source": [
    "df.shape"
   ]
  },
  {
   "cell_type": "code",
   "execution_count": 106,
   "metadata": {},
   "outputs": [
    {
     "data": {
      "text/html": [
       "<div>\n",
       "<style scoped>\n",
       "    .dataframe tbody tr th:only-of-type {\n",
       "        vertical-align: middle;\n",
       "    }\n",
       "\n",
       "    .dataframe tbody tr th {\n",
       "        vertical-align: top;\n",
       "    }\n",
       "\n",
       "    .dataframe thead th {\n",
       "        text-align: right;\n",
       "    }\n",
       "</style>\n",
       "<table border=\"1\" class=\"dataframe\">\n",
       "  <thead>\n",
       "    <tr style=\"text-align: right;\">\n",
       "      <th></th>\n",
       "      <th>title</th>\n",
       "      <th>score</th>\n",
       "      <th>id</th>\n",
       "      <th>url</th>\n",
       "      <th>comms_num</th>\n",
       "      <th>created</th>\n",
       "      <th>body</th>\n",
       "      <th>type</th>\n",
       "    </tr>\n",
       "  </thead>\n",
       "  <tbody>\n",
       "    <tr>\n",
       "      <th>0</th>\n",
       "      <td>Joe Biden raises $383 million in September, br...</td>\n",
       "      <td>102</td>\n",
       "      <td>jbepxa</td>\n",
       "      <td>https://twitter.com/JoeBiden/status/1316548847...</td>\n",
       "      <td>7</td>\n",
       "      <td>1.602756e+09</td>\n",
       "      <td></td>\n",
       "      <td>hot</td>\n",
       "    </tr>\n",
       "    <tr>\n",
       "      <th>1</th>\n",
       "      <td>Pennsylvanians! The deadline to register to vo...</td>\n",
       "      <td>24</td>\n",
       "      <td>jdiihk</td>\n",
       "      <td>https://www.media.pa.gov/pages/State-details.a...</td>\n",
       "      <td>0</td>\n",
       "      <td>1.603065e+09</td>\n",
       "      <td></td>\n",
       "      <td>hot</td>\n",
       "    </tr>\n",
       "    <tr>\n",
       "      <th>2</th>\n",
       "      <td>I live in a red state, but when the popular vo...</td>\n",
       "      <td>1644</td>\n",
       "      <td>jdhda3</td>\n",
       "      <td>https://i.redd.it/cks6oo967vt51.jpg</td>\n",
       "      <td>122</td>\n",
       "      <td>1.603061e+09</td>\n",
       "      <td></td>\n",
       "      <td>hot</td>\n",
       "    </tr>\n",
       "    <tr>\n",
       "      <th>3</th>\n",
       "      <td>Our yard sign came in</td>\n",
       "      <td>390</td>\n",
       "      <td>jdkvsd</td>\n",
       "      <td>https://i.redd.it/tx3bfhn27wt51.jpg</td>\n",
       "      <td>23</td>\n",
       "      <td>1.603073e+09</td>\n",
       "      <td></td>\n",
       "      <td>hot</td>\n",
       "    </tr>\n",
       "    <tr>\n",
       "      <th>4</th>\n",
       "      <td>This!</td>\n",
       "      <td>54</td>\n",
       "      <td>jdr9n7</td>\n",
       "      <td>https://i.redd.it/mrn19jdrzxt51.jpg</td>\n",
       "      <td>1</td>\n",
       "      <td>1.603094e+09</td>\n",
       "      <td></td>\n",
       "      <td>hot</td>\n",
       "    </tr>\n",
       "  </tbody>\n",
       "</table>\n",
       "</div>"
      ],
      "text/plain": [
       "                                               title  score      id  \\\n",
       "0  Joe Biden raises $383 million in September, br...    102  jbepxa   \n",
       "1  Pennsylvanians! The deadline to register to vo...     24  jdiihk   \n",
       "2  I live in a red state, but when the popular vo...   1644  jdhda3   \n",
       "3                              Our yard sign came in    390  jdkvsd   \n",
       "4                                              This!     54  jdr9n7   \n",
       "\n",
       "                                                 url  comms_num       created  \\\n",
       "0  https://twitter.com/JoeBiden/status/1316548847...          7  1.602756e+09   \n",
       "1  https://www.media.pa.gov/pages/State-details.a...          0  1.603065e+09   \n",
       "2                https://i.redd.it/cks6oo967vt51.jpg        122  1.603061e+09   \n",
       "3                https://i.redd.it/tx3bfhn27wt51.jpg         23  1.603073e+09   \n",
       "4                https://i.redd.it/mrn19jdrzxt51.jpg          1  1.603094e+09   \n",
       "\n",
       "  body type  \n",
       "0       hot  \n",
       "1       hot  \n",
       "2       hot  \n",
       "3       hot  \n",
       "4       hot  "
      ]
     },
     "execution_count": 106,
     "metadata": {},
     "output_type": "execute_result"
    }
   ],
   "source": [
    "df2 = pd.DataFrame(topics_dict2)\n",
    "df2.head()"
   ]
  },
  {
   "cell_type": "code",
   "execution_count": 107,
   "metadata": {},
   "outputs": [
    {
     "data": {
      "text/plain": [
       "(3980, 8)"
      ]
     },
     "execution_count": 107,
     "metadata": {},
     "output_type": "execute_result"
    }
   ],
   "source": [
    "df2.shape"
   ]
  },
  {
   "cell_type": "code",
   "execution_count": 108,
   "metadata": {},
   "outputs": [],
   "source": [
    "df['subreddit'] = 'Republican'\n",
    "df2['subreddit'] = 'democrats'"
   ]
  },
  {
   "cell_type": "code",
   "execution_count": 109,
   "metadata": {},
   "outputs": [
    {
     "data": {
      "text/plain": [
       "(3963, 9)"
      ]
     },
     "execution_count": 109,
     "metadata": {},
     "output_type": "execute_result"
    }
   ],
   "source": [
    "df.shape"
   ]
  },
  {
   "cell_type": "code",
   "execution_count": 110,
   "metadata": {},
   "outputs": [
    {
     "data": {
      "text/plain": [
       "(3980, 9)"
      ]
     },
     "execution_count": 110,
     "metadata": {},
     "output_type": "execute_result"
    }
   ],
   "source": [
    "df2.shape"
   ]
  },
  {
   "cell_type": "code",
   "execution_count": 111,
   "metadata": {},
   "outputs": [
    {
     "data": {
      "text/html": [
       "<div>\n",
       "<style scoped>\n",
       "    .dataframe tbody tr th:only-of-type {\n",
       "        vertical-align: middle;\n",
       "    }\n",
       "\n",
       "    .dataframe tbody tr th {\n",
       "        vertical-align: top;\n",
       "    }\n",
       "\n",
       "    .dataframe thead th {\n",
       "        text-align: right;\n",
       "    }\n",
       "</style>\n",
       "<table border=\"1\" class=\"dataframe\">\n",
       "  <thead>\n",
       "    <tr style=\"text-align: right;\">\n",
       "      <th></th>\n",
       "      <th>title</th>\n",
       "      <th>score</th>\n",
       "      <th>id</th>\n",
       "      <th>url</th>\n",
       "      <th>comms_num</th>\n",
       "      <th>created</th>\n",
       "      <th>body</th>\n",
       "      <th>type</th>\n",
       "      <th>subreddit</th>\n",
       "    </tr>\n",
       "  </thead>\n",
       "  <tbody>\n",
       "    <tr>\n",
       "      <th>0</th>\n",
       "      <td>Here in PA every Sunday these people gather at...</td>\n",
       "      <td>1178</td>\n",
       "      <td>jdjge9</td>\n",
       "      <td>https://v.redd.it/sm9cx0cqsvt51</td>\n",
       "      <td>106</td>\n",
       "      <td>1.603068e+09</td>\n",
       "      <td></td>\n",
       "      <td>hot</td>\n",
       "      <td>Republican</td>\n",
       "    </tr>\n",
       "    <tr>\n",
       "      <th>1</th>\n",
       "      <td>John Paul is the computer repair shop owner wh...</td>\n",
       "      <td>671</td>\n",
       "      <td>jdgun0</td>\n",
       "      <td>https://www.reddit.com/gallery/jdgun0</td>\n",
       "      <td>125</td>\n",
       "      <td>1.603059e+09</td>\n",
       "      <td></td>\n",
       "      <td>hot</td>\n",
       "      <td>Republican</td>\n",
       "    </tr>\n",
       "    <tr>\n",
       "      <th>2</th>\n",
       "      <td>Yes, It Was The 'Affordable' Care Act That Inc...</td>\n",
       "      <td>382</td>\n",
       "      <td>jdg8un</td>\n",
       "      <td>https://www.forbes.com/sites/theapothecary/201...</td>\n",
       "      <td>73</td>\n",
       "      <td>1.603056e+09</td>\n",
       "      <td></td>\n",
       "      <td>hot</td>\n",
       "      <td>Republican</td>\n",
       "    </tr>\n",
       "    <tr>\n",
       "      <th>3</th>\n",
       "      <td>Latinos for Trump Car Rally in Miami</td>\n",
       "      <td>128</td>\n",
       "      <td>jdlhe6</td>\n",
       "      <td>https://i.redd.it/yszxdeescwt51.jpg</td>\n",
       "      <td>12</td>\n",
       "      <td>1.603075e+09</td>\n",
       "      <td></td>\n",
       "      <td>hot</td>\n",
       "      <td>Republican</td>\n",
       "    </tr>\n",
       "    <tr>\n",
       "      <th>4</th>\n",
       "      <td>Kids for Trump lemonade stand held by my son a...</td>\n",
       "      <td>40</td>\n",
       "      <td>jdqhbu</td>\n",
       "      <td>https://www.reddit.com/gallery/jdqhbu</td>\n",
       "      <td>4</td>\n",
       "      <td>1.603091e+09</td>\n",
       "      <td></td>\n",
       "      <td>hot</td>\n",
       "      <td>Republican</td>\n",
       "    </tr>\n",
       "  </tbody>\n",
       "</table>\n",
       "</div>"
      ],
      "text/plain": [
       "                                               title  score      id  \\\n",
       "0  Here in PA every Sunday these people gather at...   1178  jdjge9   \n",
       "1  John Paul is the computer repair shop owner wh...    671  jdgun0   \n",
       "2  Yes, It Was The 'Affordable' Care Act That Inc...    382  jdg8un   \n",
       "3               Latinos for Trump Car Rally in Miami    128  jdlhe6   \n",
       "4  Kids for Trump lemonade stand held by my son a...     40  jdqhbu   \n",
       "\n",
       "                                                 url  comms_num       created  \\\n",
       "0                    https://v.redd.it/sm9cx0cqsvt51        106  1.603068e+09   \n",
       "1              https://www.reddit.com/gallery/jdgun0        125  1.603059e+09   \n",
       "2  https://www.forbes.com/sites/theapothecary/201...         73  1.603056e+09   \n",
       "3                https://i.redd.it/yszxdeescwt51.jpg         12  1.603075e+09   \n",
       "4              https://www.reddit.com/gallery/jdqhbu          4  1.603091e+09   \n",
       "\n",
       "  body type   subreddit  \n",
       "0       hot  Republican  \n",
       "1       hot  Republican  \n",
       "2       hot  Republican  \n",
       "3       hot  Republican  \n",
       "4       hot  Republican  "
      ]
     },
     "execution_count": 111,
     "metadata": {},
     "output_type": "execute_result"
    }
   ],
   "source": [
    "df_final = pd.concat([df,df2])\n",
    "df_final.head()"
   ]
  },
  {
   "cell_type": "code",
   "execution_count": 112,
   "metadata": {},
   "outputs": [
    {
     "data": {
      "text/plain": [
       "(7943, 9)"
      ]
     },
     "execution_count": 112,
     "metadata": {},
     "output_type": "execute_result"
    }
   ],
   "source": [
    "df_final.shape"
   ]
  },
  {
   "cell_type": "code",
   "execution_count": 113,
   "metadata": {},
   "outputs": [],
   "source": [
    "# save cleaned and combined df for use in other notebooks\n",
    "df_final.to_csv('../Data/politics.csv', index=False)"
   ]
  }
 ],
 "metadata": {
  "kernelspec": {
   "display_name": "Python 3",
   "language": "python",
   "name": "python3"
  },
  "language_info": {
   "codemirror_mode": {
    "name": "ipython",
    "version": 3
   },
   "file_extension": ".py",
   "mimetype": "text/x-python",
   "name": "python",
   "nbconvert_exporter": "python",
   "pygments_lexer": "ipython3",
   "version": "3.8.3"
  }
 },
 "nbformat": 4,
 "nbformat_minor": 4
}
