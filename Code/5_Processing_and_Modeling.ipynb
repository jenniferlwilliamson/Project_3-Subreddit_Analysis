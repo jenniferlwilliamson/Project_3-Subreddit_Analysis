{
 "cells": [
  {
   "cell_type": "markdown",
   "metadata": {},
   "source": [
    "# Notebook Summary:\n",
    "\n",
    "In this notebook I did modeling on the data downloaded from pushshift API. \n",
    "\n",
    "This was divided into the following parts:\n",
    "\n",
    "* Preprocessing - I processed the data similar to notebook 4 - adding title length and title word count columns.\n",
    "\n",
    "* Defined my baseline accuracy as 57.8%\n",
    "\n",
    "* I generally tried two types of vectorizing in my models:\n",
    "  * CountVectorizer (CV)\n",
    "  * TfidfVectorizer (TV)\n",
    "  \n",
    "  \n",
    "* I generally tried three types of classification models:\n",
    "  * Multinomial Naive Bayes (MNB) - because it's good with words\n",
    "  * Logistic (Log) - because it's very interpretable\n",
    "  * Random Forest Classifier (RFC) - because it often gives good results\n",
    "\n",
    "\n",
    "* I created models using the above combinations of vectorization and model types on four sets of data.  \n",
    "  * **Model Group 1**: Modeled on Words in the Title \n",
    "  * **Model Group 2**: Modeled on URLS\n",
    "  * **Model Group 3**: Modeled on Words in the Title, URLs, and Title Charactistics (word count and length of the title)\n",
    "  * **Model Group 4**: Modeled on Title Charactistics (word count and length of the title)\n",
    "\n",
    "\n",
    "* I include 4 summary tables for each data set below showing each model and the results.\n",
    "\n",
    "\n",
    " * **Model Group 1**\n",
    "\n",
    "| Link | Dataset | Vectorizer| Model| Cross-Val Acc.| Train Acc.| Test Acc.| Spec.| Sens.| Notes |\n",
    "| :-: | :-: | :-: | :-: | :-: | :-: | :-: | :-: | :-: |--- |\n",
    "| [1a](#Model-Group-1a:)| Title Words | CV | MNB |0.673|0.688|0.676|0.759|0.562|  |\n",
    "| [1b](#Model-Group-1b:)|**Title Words**|**CV**| **Log**|**0.690**|**0.714**|**0.695**|**0.753**|**0.617**|**Best of Group 1**|\n",
    "| [1c](#Model-Group-1c:)| Title Words | CV | RFC |0.578|0.578|0.578|1.000|0.000|  |\n",
    "| [1d](#Model-Group-1d:)| Title Words | TV | MNB |0.671|0.686|0.676|0.838|0.454|  |\n",
    "| [1e](#Model-Group-1e:)| Title Words | TV | Log |0.689|0.713|0.694|0.781|0.575|  |\n",
    "| [1f](#Model-Group-1f:)| Title Words | TV | RFC |0.578|0.578|0.578|1.000|0.001|  |\n",
    "\n",
    "\n",
    "\n",
    " * **Model Group 2**\n",
    "\n",
    "| Link | Dataset | Vectorizer| Model| Cross-Val Acc.| Train Acc.| Test Acc.| Spec.| Sens.| Notes |\n",
    "| :-: | :-: | :-: | :-: | :-: | :-: | :-: | :-: | :-: |--- |\n",
    "| [2a](#Model-Group-2a:)| URL | CV | MNB         |0.772|0.783|0.776|0.903|0.603|  |\n",
    "| [2b](#Model-Group-2b:)| URL | CV | Log         |0.773|0.785|0.778|0.904|0.604|  |\n",
    "| [2c](#Model-Group-2c:)| URL | CV | RFC         |     |     |     |     |     |not run due to time|\n",
    "| [2d](#Model-Group-2d:)| URL | TV | MNB         |0.775|0.796|0.779|0.899|0.615|  |\n",
    "| [2e](#Model-Group-2e:)|**URL**|**TV**|**Log**|**0.776**|**0.797**|**0.780**|**0.903**|**0.611**|**Best of Group 2**|\n",
    "| [2f](#Model-Group-2f:)| URL | TV | RFC         |     |     |     |     |     |not run due to time|\n",
    "\n",
    "\n",
    "\n",
    " * **Model Group 3**\n",
    "\n",
    "| Link | Dataset | Vectorizer| Model| Cross-Val Acc.| Train Acc.| Test Acc.| Spec.| Sens.| Notes |\n",
    "| :-: | :-: | :-: | :-: | :-: | :-: | :-: | :-: | :-: | --- |\n",
    "| [3a](#Model-Group-3a:)| Title Words/URL/Title Chars|CV-words, TV-URL| MNB|n/a|0.778|0.772|0.713|0.815|   |\n",
    "| [3b](#Model-Group-3b:)|**Title Words/URL/Title Chars**|**CV-words, TV-URL**| **Log**|**n/a**|**0.800**|**0.785**|**0.704**|**0.843**|**Best of Group 3**|\n",
    "| [3c](#Model-Group-3c:)| Title Words, URL, Title Chars| CV-words, TV-URL| RFC| | | | | |not run due to time|\n",
    "\n",
    "\n",
    "\n",
    " * **Model Group 4**\n",
    "\n",
    "| Link | Dataset | Vectorizer| Model| Cross-Val Acc.| Train Acc.| Test Acc.| Spec.| Sens.| Notes |\n",
    "| :-: | :-: | :-: | :-: | :-: | :-: | :-: | :-: | :-: | --- |\n",
    "| [4a](#Model-Group-4a:)| Title Chars | n/a | MNB|n/a  |0.578|0.578|0.0  |1.0  |  |\n",
    "| [4b](#Model-Group-4b:)| **Title Chars** | **n/a** | **Log**|**n/a**  |**0.585**|**0.582**|**0.828**|**0.247**|**Best of Group 4**|"
   ]
  },
  {
   "cell_type": "code",
   "execution_count": 1,
   "metadata": {},
   "outputs": [],
   "source": [
    "import pandas as pd\n",
    "import numpy as np\n",
    "import matplotlib.pyplot as plt\n",
    "from matplotlib.colors import ListedColormap\n",
    "import seaborn as sns\n",
    "\n",
    "# from Lab 5.02\n",
    "# this setting widens how many characters pandas will display in a column:\n",
    "pd.options.display.max_colwidth = 400\n",
    "\n",
    "\n",
    "# imports from NLP II lecture\n",
    "\n",
    "from sklearn.preprocessing import StandardScaler\n",
    "from sklearn.model_selection import train_test_split, GridSearchCV\n",
    "from sklearn.pipeline import Pipeline\n",
    "from sklearn.naive_bayes import MultinomialNB\n",
    "from sklearn.linear_model import LogisticRegression\n",
    "from sklearn.ensemble import RandomForestClassifier\n",
    "from sklearn.metrics import confusion_matrix, plot_confusion_matrix\n",
    "\n",
    "# Import CountVectorizer and TFIDFVectorizer from feature_extraction.text.\n",
    "from sklearn.feature_extraction.text import CountVectorizer, TfidfVectorizer"
   ]
  },
  {
   "cell_type": "code",
   "execution_count": 2,
   "metadata": {},
   "outputs": [],
   "source": [
    "df = pd.read_csv('../data/reps_and_dems.csv')"
   ]
  },
  {
   "cell_type": "markdown",
   "metadata": {},
   "source": [
    "# Preprocessing"
   ]
  },
  {
   "cell_type": "code",
   "execution_count": 76,
   "metadata": {},
   "outputs": [],
   "source": [
    "df['title_length'] = df['title'].apply(lambda x: len(x))"
   ]
  },
  {
   "cell_type": "code",
   "execution_count": 77,
   "metadata": {},
   "outputs": [],
   "source": [
    "df['title_word_count'] = df['title'].apply(lambda x: len(x.split()))"
   ]
  },
  {
   "cell_type": "code",
   "execution_count": 78,
   "metadata": {},
   "outputs": [],
   "source": [
    "df['url_long'] = df['url'].apply(lambda x: x.split('/'))\n",
    "df['url_primary'] = df['url_long'].apply(lambda x: x[2])"
   ]
  },
  {
   "cell_type": "code",
   "execution_count": 79,
   "metadata": {},
   "outputs": [],
   "source": [
    "df['url_primary_long'] = df['url_primary'].replace('www.', '', regex=True)"
   ]
  },
  {
   "cell_type": "code",
   "execution_count": 80,
   "metadata": {},
   "outputs": [],
   "source": [
    "df = df[['subreddit','title','title_length','title_word_count','url_primary_long']]"
   ]
  },
  {
   "cell_type": "code",
   "execution_count": 81,
   "metadata": {},
   "outputs": [
    {
     "data": {
      "text/html": [
       "<div>\n",
       "<style scoped>\n",
       "    .dataframe tbody tr th:only-of-type {\n",
       "        vertical-align: middle;\n",
       "    }\n",
       "\n",
       "    .dataframe tbody tr th {\n",
       "        vertical-align: top;\n",
       "    }\n",
       "\n",
       "    .dataframe thead th {\n",
       "        text-align: right;\n",
       "    }\n",
       "</style>\n",
       "<table border=\"1\" class=\"dataframe\">\n",
       "  <thead>\n",
       "    <tr style=\"text-align: right;\">\n",
       "      <th></th>\n",
       "      <th>subreddit</th>\n",
       "      <th>title</th>\n",
       "      <th>title_length</th>\n",
       "      <th>title_word_count</th>\n",
       "      <th>url_primary_long</th>\n",
       "    </tr>\n",
       "  </thead>\n",
       "  <tbody>\n",
       "    <tr>\n",
       "      <th>0</th>\n",
       "      <td>democrats</td>\n",
       "      <td>Happy Halloween!</td>\n",
       "      <td>16</td>\n",
       "      <td>2</td>\n",
       "      <td>i.redd.it</td>\n",
       "    </tr>\n",
       "    <tr>\n",
       "      <th>1</th>\n",
       "      <td>democrats</td>\n",
       "      <td>someone I follow pointed out that Russia today is making content (in English for Americans) attacking anti racists unless the racist happens to be Jewish his comment was \"rejected\" by Russia today</td>\n",
       "      <td>196</td>\n",
       "      <td>32</td>\n",
       "      <td>i.redd.it</td>\n",
       "    </tr>\n",
       "    <tr>\n",
       "      <th>2</th>\n",
       "      <td>democrats</td>\n",
       "      <td>HOW DONALD TRUMP AND THE REPUBLICAN PARTY SCREWED THE AMERICAN WORKER</td>\n",
       "      <td>69</td>\n",
       "      <td>11</td>\n",
       "      <td>reddit.com</td>\n",
       "    </tr>\n",
       "    <tr>\n",
       "      <th>3</th>\n",
       "      <td>democrats</td>\n",
       "      <td>BTRTN: Ten Days in November... Would You Make This Deal to Get Rid of Trump?</td>\n",
       "      <td>76</td>\n",
       "      <td>15</td>\n",
       "      <td>borntorunthenumbers.com</td>\n",
       "    </tr>\n",
       "    <tr>\n",
       "      <th>4</th>\n",
       "      <td>democrats</td>\n",
       "      <td>Never forget that long after he's gone our children will have to memorize this history.</td>\n",
       "      <td>87</td>\n",
       "      <td>15</td>\n",
       "      <td>youtu.be</td>\n",
       "    </tr>\n",
       "  </tbody>\n",
       "</table>\n",
       "</div>"
      ],
      "text/plain": [
       "   subreddit  \\\n",
       "0  democrats   \n",
       "1  democrats   \n",
       "2  democrats   \n",
       "3  democrats   \n",
       "4  democrats   \n",
       "\n",
       "                                                                                                                                                                                                  title  \\\n",
       "0                                                                                                                                                                                      Happy Halloween!   \n",
       "1  someone I follow pointed out that Russia today is making content (in English for Americans) attacking anti racists unless the racist happens to be Jewish his comment was \"rejected\" by Russia today   \n",
       "2                                                                                                                                 HOW DONALD TRUMP AND THE REPUBLICAN PARTY SCREWED THE AMERICAN WORKER   \n",
       "3                                                                                                                          BTRTN: Ten Days in November... Would You Make This Deal to Get Rid of Trump?   \n",
       "4                                                                                                               Never forget that long after he's gone our children will have to memorize this history.   \n",
       "\n",
       "   title_length  title_word_count         url_primary_long  \n",
       "0            16                 2                i.redd.it  \n",
       "1           196                32                i.redd.it  \n",
       "2            69                11               reddit.com  \n",
       "3            76                15  borntorunthenumbers.com  \n",
       "4            87                15                 youtu.be  "
      ]
     },
     "execution_count": 81,
     "metadata": {},
     "output_type": "execute_result"
    }
   ],
   "source": [
    "df.head()"
   ]
  },
  {
   "cell_type": "code",
   "execution_count": 82,
   "metadata": {},
   "outputs": [
    {
     "data": {
      "text/plain": [
       "subreddit           0\n",
       "title               0\n",
       "title_length        0\n",
       "title_word_count    0\n",
       "url_primary_long    0\n",
       "dtype: int64"
      ]
     },
     "execution_count": 82,
     "metadata": {},
     "output_type": "execute_result"
    }
   ],
   "source": [
    "df.isnull().sum()"
   ]
  },
  {
   "cell_type": "code",
   "execution_count": 83,
   "metadata": {},
   "outputs": [
    {
     "name": "stdout",
     "output_type": "stream",
     "text": [
      "<class 'pandas.core.frame.DataFrame'>\n",
      "RangeIndex: 214019 entries, 0 to 214018\n",
      "Data columns (total 5 columns):\n",
      " #   Column            Non-Null Count   Dtype \n",
      "---  ------            --------------   ----- \n",
      " 0   subreddit         214019 non-null  object\n",
      " 1   title             214019 non-null  object\n",
      " 2   title_length      214019 non-null  int64 \n",
      " 3   title_word_count  214019 non-null  int64 \n",
      " 4   url_primary_long  214019 non-null  object\n",
      "dtypes: int64(2), object(3)\n",
      "memory usage: 8.2+ MB\n"
     ]
    }
   ],
   "source": [
    "df.info()"
   ]
  },
  {
   "cell_type": "markdown",
   "metadata": {},
   "source": [
    "---\n",
    "## First Group of Models:  Model based on Words in the Title\n",
    "---\n",
    "\n",
    "###  try 2 vectorizers: CountVectorizer and TfidfVectorizer\n",
    "### try 3 models: Logistic, Multinomial Naive Bayes, Random Forests \n",
    "---"
   ]
  },
  {
   "cell_type": "code",
   "execution_count": 84,
   "metadata": {},
   "outputs": [],
   "source": [
    "df['subreddit'] = df['subreddit'].map({'Republican':1,'democrats':0})"
   ]
  },
  {
   "cell_type": "code",
   "execution_count": 85,
   "metadata": {},
   "outputs": [],
   "source": [
    "X = df['title']\n",
    "y = df['subreddit']"
   ]
  },
  {
   "cell_type": "markdown",
   "metadata": {},
   "source": [
    "### Baseline Accuracy"
   ]
  },
  {
   "cell_type": "code",
   "execution_count": 86,
   "metadata": {},
   "outputs": [
    {
     "data": {
      "text/plain": [
       "0    0.577837\n",
       "1    0.422163\n",
       "Name: subreddit, dtype: float64"
      ]
     },
     "execution_count": 86,
     "metadata": {},
     "output_type": "execute_result"
    }
   ],
   "source": [
    "#baseline accuracy in y\n",
    "y.value_counts(normalize = True)"
   ]
  },
  {
   "cell_type": "code",
   "execution_count": 87,
   "metadata": {},
   "outputs": [],
   "source": [
    "# Split the data\n",
    "\n",
    "X_train, X_test, y_train, y_test = train_test_split(X,\n",
    "                                                    y,\n",
    "                                                    stratify = y,\n",
    "                                                    random_state=42)"
   ]
  },
  {
   "cell_type": "markdown",
   "metadata": {},
   "source": [
    "### Review max_features and how many times a word appears at a given cutoff \n",
    "### (to see if that many features makes sense)"
   ]
  },
  {
   "cell_type": "code",
   "execution_count": 73,
   "metadata": {},
   "outputs": [
    {
     "data": {
      "text/plain": [
       "proclaimed       13\n",
       "frightened       13\n",
       "inadvertently    13\n",
       "annoyed          13\n",
       "severely         13\n",
       "worn             13\n",
       "expertise        13\n",
       "stranger         13\n",
       "masculinity      13\n",
       "crooks           13\n",
       "dtype: int64"
      ]
     },
     "execution_count": 73,
     "metadata": {},
     "output_type": "execute_result"
    }
   ],
   "source": [
    "cvec = CountVectorizer(max_features=10_000)\n",
    "cvec.fit(X_train)\n",
    "\n",
    "X_train_t = cvec.transform(X_train)\n",
    "\n",
    "X_train_df = pd.DataFrame(X_train_t.todense(),\n",
    "                         columns=cvec.get_feature_names())\n",
    "\n",
    "#bottom appearing words\n",
    "X_train_df.sum().sort_values(ascending = True).head(10)"
   ]
  },
  {
   "cell_type": "code",
   "execution_count": 49,
   "metadata": {},
   "outputs": [
    {
     "data": {
      "text/plain": [
       "(160514, 10000)"
      ]
     },
     "execution_count": 49,
     "metadata": {},
     "output_type": "execute_result"
    }
   ],
   "source": [
    "X_train_df.shape"
   ]
  },
  {
   "cell_type": "code",
   "execution_count": 50,
   "metadata": {},
   "outputs": [],
   "source": [
    "# 13 out of 150414 is minimal appearance, so no need to get that many features when doing prediction"
   ]
  },
  {
   "cell_type": "code",
   "execution_count": 56,
   "metadata": {},
   "outputs": [
    {
     "data": {
      "text/plain": [
       "medicine        41\n",
       "depends         41\n",
       "spies           41\n",
       "krauthammer     42\n",
       "reproductive    42\n",
       "exercise        42\n",
       "placed          42\n",
       "globe           42\n",
       "segment         42\n",
       "limiting        42\n",
       "dtype: int64"
      ]
     },
     "execution_count": 56,
     "metadata": {},
     "output_type": "execute_result"
    }
   ],
   "source": [
    "cvec = CountVectorizer(max_features=5_000)\n",
    "cvec.fit(X_train)\n",
    "\n",
    "X_train_t = cvec.transform(X_train)\n",
    "\n",
    "X_train_df = pd.DataFrame(X_train_t.todense(),\n",
    "                         columns=cvec.get_feature_names())\n",
    "\n",
    "#bottom appearing words\n",
    "X_train_df.sum().sort_values(ascending = True).head(10)"
   ]
  },
  {
   "cell_type": "code",
   "execution_count": 57,
   "metadata": {},
   "outputs": [
    {
     "data": {
      "text/plain": [
       "0.00026165941911608957"
      ]
     },
     "execution_count": 57,
     "metadata": {},
     "output_type": "execute_result"
    }
   ],
   "source": [
    "42/160514"
   ]
  },
  {
   "cell_type": "code",
   "execution_count": null,
   "metadata": {},
   "outputs": [],
   "source": [
    "# this is still a low percentage, but I'll stop here"
   ]
  },
  {
   "cell_type": "markdown",
   "metadata": {},
   "source": [
    "### Create function to review results of grid search"
   ]
  },
  {
   "cell_type": "code",
   "execution_count": 30,
   "metadata": {},
   "outputs": [],
   "source": [
    "# Function to review results\n",
    "\n",
    "def results(fxn_name,X_test,y_test, X_train, y_train):\n",
    "\n",
    "    #calculate cross-val score\n",
    "    cvs = fxn_name.best_score_\n",
    "    print('Best Score(cross_val_score) is: ', cvs)\n",
    "    print('----------------------------------------------------------------------')\n",
    "    \n",
    "    # best params for the score\n",
    "    bps = fxn_name.best_params_\n",
    "    print('Best parameters for the best score(cross_val_score) are: ', bps)\n",
    "    print('----------------------------------------------------------------------')\n",
    "    \n",
    "    # accuracy scores\n",
    "    train_sc = fxn_name.score(X_train, y_train) \n",
    "    test_sc = fxn_name.score(X_test, y_test)\n",
    "    print('Train score is: ', train_sc)\n",
    "    print('Test score is: ', test_sc)\n",
    "    print('----------------------------------------------------------------------')\n",
    "    \n",
    "    #Review predictions\n",
    "    preds = fxn_name.predict(X_test)\n",
    "\n",
    "    # Save confusion matrix values\n",
    "    tn, fp, fn, tp = confusion_matrix(y_test, preds).ravel()\n",
    "\n",
    "    plot_confusion_matrix(fxn_name, X_test, y_test, cmap='Blues', values_format='d');\n",
    "\n",
    "    # Calculate the specificity and sensitivity\n",
    "    spec = tn / (tn + fp)\n",
    "    print('Specificity: ', spec)\n",
    "    \n",
    "    sens = tp / (tp + fn)\n",
    "    print('Sensitivity: ', sens)"
   ]
  },
  {
   "cell_type": "markdown",
   "metadata": {},
   "source": [
    "### Create function to review results of one model run"
   ]
  },
  {
   "cell_type": "code",
   "execution_count": 29,
   "metadata": {},
   "outputs": [],
   "source": [
    "def results_cleaned(fxn_name,X_test,y_test, X_train, y_train):\n",
    "    \n",
    "    # accuracy scores\n",
    "    train_sc = fxn_name.score(X_train, y_train) \n",
    "    test_sc = fxn_name.score(X_test, y_test)\n",
    "    print('Train score is: ', train_sc)\n",
    "    print('Test score is: ', test_sc)\n",
    "    print('----------------------------------------------------------------------')\n",
    "    \n",
    "    #Review predictions\n",
    "    preds = fxn_name.predict(X_test)\n",
    "\n",
    "    # Save confusion matrix values\n",
    "    tn, fp, fn, tp = confusion_matrix(y_test, preds).ravel()\n",
    "\n",
    "    plot_confusion_matrix(fxn_name, X_test, y_test, cmap='Blues', values_format='d');\n",
    "\n",
    "    # Calculate the specificity and sensitivity\n",
    "    spec = tn / (tn + fp)\n",
    "    print('Specificity: ', spec)\n",
    "    \n",
    "    sens = tp / (tp + fn)\n",
    "    print('Sensitivity: ', sens)"
   ]
  },
  {
   "cell_type": "markdown",
   "metadata": {},
   "source": [
    "### Model Group 1a: \n",
    " * **Based on:** Words in the Title\n",
    " * **Vectorizer:** CountVectorizer\n",
    " * **Model:** Multinomial Naive Bays"
   ]
  },
  {
   "cell_type": "code",
   "execution_count": 63,
   "metadata": {},
   "outputs": [],
   "source": [
    "# From NLP II lecture\n",
    "\n",
    "# Let's set a pipeline up with two stages:\n",
    "# 1. CountVectorizer (transformer)\n",
    "# 2. Multinomial Naive Bayes (estimator)\n",
    "\n",
    "pipe = Pipeline([\n",
    "    ('cvec', CountVectorizer()),\n",
    "    ('nb', MultinomialNB())\n",
    "])\n",
    "\n",
    "pipe_params = {\n",
    "    'cvec__max_features': [4_000, 5_000],\n",
    "    'cvec__stop_words': ['english',None],\n",
    "    'cvec__min_df': [2, 3],\n",
    "    'cvec__max_df': [.9, .95],\n",
    "    'cvec__ngram_range': [(1,1), (1,2)]\n",
    "}\n",
    "\n",
    "gs = GridSearchCV(pipe, # what object are we optimizing?\n",
    "                  param_grid=pipe_params, # what parameters values are we searching?\n",
    "                  cv=5) # 5-fold cross-validation.\n",
    "\n",
    "gs.fit(X_train, y_train)"
   ]
  },
  {
   "cell_type": "code",
   "execution_count": 77,
   "metadata": {},
   "outputs": [
    {
     "name": "stdout",
     "output_type": "stream",
     "text": [
      "Best Score(cross_val_score) is:  0.6733618293555163\n",
      "----------------------------------------------------------------------\n",
      "Best parameters for the best score(cross_val_score) are:  {'cvec__max_df': 0.9, 'cvec__max_features': 5000, 'cvec__min_df': 2, 'cvec__ngram_range': (1, 1), 'cvec__stop_words': None}\n",
      "----------------------------------------------------------------------\n",
      "Train score is:  0.6875475036445419\n",
      "Test score is:  0.6761984861227922\n",
      "----------------------------------------------------------------------\n",
      "Specificity:  0.7593556942782288\n",
      "Sensitivity:  0.5623782539401452\n"
     ]
    },
    {
     "data": {
      "image/png": "[encoded data removed]",
      "text/plain": [
       "<Figure size 432x288 with 2 Axes>"
      ]
     },
     "metadata": {
      "needs_background": "light"
     },
     "output_type": "display_data"
    }
   ],
   "source": [
    "results(gs,X_test,y_test, X_train, y_train)"
   ]
  },
  {
   "cell_type": "markdown",
   "metadata": {},
   "source": [
    "### Model Group 1b: \n",
    " * **Based on:** Words in the Title\n",
    " * **Vectorizer:** CountVectorizer\n",
    " * **Model:** Logistic"
   ]
  },
  {
   "cell_type": "code",
   "execution_count": 79,
   "metadata": {},
   "outputs": [
    {
     "data": {
      "text/plain": [
       "GridSearchCV(cv=5,\n",
       "             estimator=Pipeline(steps=[('cvec', CountVectorizer()),\n",
       "                                       ('log', LogisticRegression())]),\n",
       "             param_grid={'cvec__max_df': [0.9, 0.95],\n",
       "                         'cvec__max_features': [4000, 5000],\n",
       "                         'cvec__min_df': [2, 3],\n",
       "                         'cvec__ngram_range': [(1, 1), (1, 2)],\n",
       "                         'cvec__stop_words': ['english', None],\n",
       "                         'log__C': [0.1, 1, 10], 'log__penalty': ['l1'],\n",
       "                         'log__solver': ['liblinear']})"
      ]
     },
     "execution_count": 79,
     "metadata": {},
     "output_type": "execute_result"
    }
   ],
   "source": [
    "# From NLP_tweets\n",
    "\n",
    "pipe2 = Pipeline([\n",
    "    ('cvec', CountVectorizer()),\n",
    "    ('log', LogisticRegression())\n",
    "])\n",
    "\n",
    "pipe_params2 = {\n",
    "    'cvec__max_features': [4_000, 5_000],\n",
    "    'cvec__stop_words': ['english', None],\n",
    "    'cvec__min_df': [2, 3],\n",
    "    'cvec__max_df': [.9, .95],\n",
    "    'cvec__ngram_range': [(1,1), (1,2)],\n",
    "    'log__C': [.1, 1, 10],\n",
    "    'log__solver': ['liblinear'],\n",
    "    'log__penalty': ['l1']\n",
    "}\n",
    "\n",
    "gs2 = GridSearchCV(pipe2, # what object are we optimizing?\n",
    "                  param_grid=pipe_params2, # what parameters values are we searching?\n",
    "                  cv=5) # 5-fold cross-validation.\n",
    "\n",
    "gs2.fit(X_train, y_train)"
   ]
  },
  {
   "cell_type": "code",
   "execution_count": 80,
   "metadata": {},
   "outputs": [
    {
     "name": "stdout",
     "output_type": "stream",
     "text": [
      "Best Score(cross_val_score) is:  0.6903821406276496\n",
      "----------------------------------------------------------------------\n",
      "Best parameters for the best score(cross_val_score) are:  {'cvec__max_df': 0.9, 'cvec__max_features': 5000, 'cvec__min_df': 3, 'cvec__ngram_range': (1, 2), 'cvec__stop_words': 'english', 'log__C': 1, 'log__penalty': 'l1', 'log__solver': 'liblinear'}\n",
      "----------------------------------------------------------------------\n",
      "Train score is:  0.7142803742975691\n",
      "Test score is:  0.6953929539295393\n",
      "----------------------------------------------------------------------\n",
      "Specificity:  0.7526280040107385\n",
      "Sensitivity:  0.6170533026385692\n"
     ]
    },
    {
     "data": {
      "image/png": "[encoded data removed]",
      "text/plain": [
       "<Figure size 432x288 with 2 Axes>"
      ]
     },
     "metadata": {
      "needs_background": "light"
     },
     "output_type": "display_data"
    }
   ],
   "source": [
    "results(gs2,X_test,y_test, X_train, y_train)"
   ]
  },
  {
   "cell_type": "markdown",
   "metadata": {},
   "source": [
    "### Performs best of Group 1 - so analyze the best result of the grid search"
   ]
  },
  {
   "cell_type": "code",
   "execution_count": 90,
   "metadata": {},
   "outputs": [
    {
     "data": {
      "text/plain": [
       "(0.714323984200755, 0.6954864031398935)"
      ]
     },
     "execution_count": 90,
     "metadata": {},
     "output_type": "execute_result"
    }
   ],
   "source": [
    "cvec = CountVectorizer(max_features=5000,\n",
    "                       stop_words='english',\n",
    "                       min_df=3,\n",
    "                       max_df=.9,\n",
    "                       ngram_range=(1,2))\n",
    "\n",
    "X_train_a = pd.DataFrame(cvec.fit_transform(X_train).todense(),\n",
    "                        columns=cvec.get_feature_names())\n",
    "\n",
    "X_test_a = pd.DataFrame(cvec.transform(X_test).todense(),\n",
    "                        columns=cvec.get_feature_names())\n",
    "\n",
    "logreg = LogisticRegression(C=1.0,\n",
    "                            solver='liblinear',\n",
    "                           penalty='l1')\n",
    "\n",
    "logreg.fit(X_train_a, y_train)\n",
    "\n",
    "logreg.score(X_train_a, y_train), logreg.score(X_test_a, y_test)"
   ]
  },
  {
   "cell_type": "code",
   "execution_count": 91,
   "metadata": {},
   "outputs": [
    {
     "data": {
      "text/html": [
       "<div>\n",
       "<style scoped>\n",
       "    .dataframe tbody tr th:only-of-type {\n",
       "        vertical-align: middle;\n",
       "    }\n",
       "\n",
       "    .dataframe tbody tr th {\n",
       "        vertical-align: top;\n",
       "    }\n",
       "\n",
       "    .dataframe thead th {\n",
       "        text-align: right;\n",
       "    }\n",
       "</style>\n",
       "<table border=\"1\" class=\"dataframe\">\n",
       "  <thead>\n",
       "    <tr style=\"text-align: right;\">\n",
       "      <th></th>\n",
       "      <th>coef</th>\n",
       "    </tr>\n",
       "    <tr>\n",
       "      <th>feature</th>\n",
       "      <th></th>\n",
       "    </tr>\n",
       "  </thead>\n",
       "  <tbody>\n",
       "    <tr>\n",
       "      <th>smythtv</th>\n",
       "      <td>52.948070</td>\n",
       "    </tr>\n",
       "    <tr>\n",
       "      <th>preborn</th>\n",
       "      <td>50.931299</td>\n",
       "    </tr>\n",
       "    <tr>\n",
       "      <th>aborted</th>\n",
       "      <td>44.368494</td>\n",
       "    </tr>\n",
       "    <tr>\n",
       "      <th>abortionist</th>\n",
       "      <td>32.478851</td>\n",
       "    </tr>\n",
       "    <tr>\n",
       "      <th>lockdowns</th>\n",
       "      <td>23.703363</td>\n",
       "    </tr>\n",
       "    <tr>\n",
       "      <th>kasich</th>\n",
       "      <td>12.634629</td>\n",
       "    </tr>\n",
       "    <tr>\n",
       "      <th>york</th>\n",
       "      <td>12.352263</td>\n",
       "    </tr>\n",
       "    <tr>\n",
       "      <th>lerner</th>\n",
       "      <td>11.918878</td>\n",
       "    </tr>\n",
       "    <tr>\n",
       "      <th>realclearpolitics</th>\n",
       "      <td>11.168933</td>\n",
       "    </tr>\n",
       "    <tr>\n",
       "      <th>rioters</th>\n",
       "      <td>10.767219</td>\n",
       "    </tr>\n",
       "    <tr>\n",
       "      <th>illegals</th>\n",
       "      <td>9.176563</td>\n",
       "    </tr>\n",
       "    <tr>\n",
       "      <th>deep state</th>\n",
       "      <td>8.871275</td>\n",
       "    </tr>\n",
       "    <tr>\n",
       "      <th>judge napolitano</th>\n",
       "      <td>7.475765</td>\n",
       "    </tr>\n",
       "    <tr>\n",
       "      <th>amnesty</th>\n",
       "      <td>7.386463</td>\n",
       "    </tr>\n",
       "    <tr>\n",
       "      <th>msm</th>\n",
       "      <td>7.228282</td>\n",
       "    </tr>\n",
       "    <tr>\n",
       "      <th>anti gun</th>\n",
       "      <td>6.816538</td>\n",
       "    </tr>\n",
       "    <tr>\n",
       "      <th>pro abortion</th>\n",
       "      <td>6.325845</td>\n",
       "    </tr>\n",
       "    <tr>\n",
       "      <th>leftists</th>\n",
       "      <td>6.140487</td>\n",
       "    </tr>\n",
       "    <tr>\n",
       "      <th>late term</th>\n",
       "      <td>6.074382</td>\n",
       "    </tr>\n",
       "    <tr>\n",
       "      <th>national review</th>\n",
       "      <td>6.063430</td>\n",
       "    </tr>\n",
       "    <tr>\n",
       "      <th>hunter biden</th>\n",
       "      <td>5.896440</td>\n",
       "    </tr>\n",
       "    <tr>\n",
       "      <th>mark levin</th>\n",
       "      <td>5.817905</td>\n",
       "    </tr>\n",
       "    <tr>\n",
       "      <th>sequester</th>\n",
       "      <td>5.775896</td>\n",
       "    </tr>\n",
       "    <tr>\n",
       "      <th>riots</th>\n",
       "      <td>5.616723</td>\n",
       "    </tr>\n",
       "    <tr>\n",
       "      <th>lockdown</th>\n",
       "      <td>5.591933</td>\n",
       "    </tr>\n",
       "  </tbody>\n",
       "</table>\n",
       "</div>"
      ],
      "text/plain": [
       "                        coef\n",
       "feature                     \n",
       "smythtv            52.948070\n",
       "preborn            50.931299\n",
       "aborted            44.368494\n",
       "abortionist        32.478851\n",
       "lockdowns          23.703363\n",
       "kasich             12.634629\n",
       "york               12.352263\n",
       "lerner             11.918878\n",
       "realclearpolitics  11.168933\n",
       "rioters            10.767219\n",
       "illegals            9.176563\n",
       "deep state          8.871275\n",
       "judge napolitano    7.475765\n",
       "amnesty             7.386463\n",
       "msm                 7.228282\n",
       "anti gun            6.816538\n",
       "pro abortion        6.325845\n",
       "leftists            6.140487\n",
       "late term           6.074382\n",
       "national review     6.063430\n",
       "hunter biden        5.896440\n",
       "mark levin          5.817905\n",
       "sequester           5.775896\n",
       "riots               5.616723\n",
       "lockdown            5.591933"
      ]
     },
     "execution_count": 91,
     "metadata": {},
     "output_type": "execute_result"
    }
   ],
   "source": [
    "logreg.coef_\n",
    "\n",
    "coefs = np.exp(logreg.coef_)\n",
    "cols = X_train_a.columns\n",
    "\n",
    "coefs_df = pd.DataFrame(zip(coefs[0], cols), columns = ['coef','feature'])\n",
    "\n",
    "coefs_df.head()\n",
    " \n",
    "coefs_df.sort_values('coef',ascending = False).head(25).set_index('feature')"
   ]
  },
  {
   "cell_type": "code",
   "execution_count": 93,
   "metadata": {},
   "outputs": [
    {
     "data": {
      "text/plain": [
       "<matplotlib.axes._subplots.AxesSubplot at 0x248bfda7dc0>"
      ]
     },
     "execution_count": 93,
     "metadata": {},
     "output_type": "execute_result"
    },
    {
     "data": {
      "image/png": "[encoded data removed]",
      "text/plain": [
       "<Figure size 216x720 with 2 Axes>"
      ]
     },
     "metadata": {
      "needs_background": "light"
     },
     "output_type": "display_data"
    }
   ],
   "source": [
    "plt.figure(figsize = (3,10))\n",
    "sns.heatmap(coefs_df.sort_values('coef',ascending = False).head(25).set_index('feature'),\n",
    "           cmap = 'Blues',\n",
    "           vmin = 0,\n",
    "           annot = True)"
   ]
  },
  {
   "cell_type": "markdown",
   "metadata": {},
   "source": [
    "### Model Group 1c: \n",
    " * **Based on:** Words in the Title\n",
    " * **Vectorizer:** CountVectorizer\n",
    " * **Model:** Random Forest"
   ]
  },
  {
   "cell_type": "markdown",
   "metadata": {},
   "source": [
    "***To reduce calculation time, reduce max features option to just 5,000 since both above used 5,000 for the max features**"
   ]
  },
  {
   "cell_type": "code",
   "execution_count": null,
   "metadata": {},
   "outputs": [],
   "source": [
    "# From Random Forests and Extra Trees\n",
    "\n",
    "pipe3 = Pipeline([\n",
    "    ('cvec', CountVectorizer()),\n",
    "    ('rf', RandomForestClassifier())\n",
    "])\n",
    "\n",
    "pipe_params3 = {\n",
    "    'cvec__max_features': [5_000],\n",
    "    'cvec__stop_words': ['english',None],\n",
    "    'cvec__min_df': [2, 3],\n",
    "    'cvec__max_df': [.9, .95],\n",
    "    'cvec__ngram_range': [(1,1), (1,2)],\n",
    "    'rf__n_estimators': [75, 100, 125],\n",
    "    'rf__max_depth': [None, 3, 4],\n",
    "    'rf__max_features': ['auto', None]\n",
    "}\n",
    "\n",
    "gs3 = GridSearchCV(pipe3, # what object are we optimizing?\n",
    "                  param_grid=pipe_params3, # what parameters values are we searching?\n",
    "                  cv=5, # 5-fold cross-validation\n",
    "                  n_jobs=-1) # use all processors so faster\n",
    "\n",
    "gs3.fit(X_train, y_train)"
   ]
  },
  {
   "cell_type": "code",
   "execution_count": null,
   "metadata": {},
   "outputs": [],
   "source": [
    "results(gs3,X_test,y_test, X_train, y_train)"
   ]
  },
  {
   "cell_type": "markdown",
   "metadata": {},
   "source": [
    "**the above code took over 3 hrs to run, so going to try fewer cases**"
   ]
  },
  {
   "cell_type": "code",
   "execution_count": 86,
   "metadata": {},
   "outputs": [
    {
     "name": "stdout",
     "output_type": "stream",
     "text": [
      "Wall time: 13.4 s\n"
     ]
    },
    {
     "data": {
      "text/plain": [
       "GridSearchCV(cv=2,\n",
       "             estimator=Pipeline(steps=[('cvec', CountVectorizer()),\n",
       "                                       ('rf', RandomForestClassifier())]),\n",
       "             n_jobs=-1,\n",
       "             param_grid={'cvec__max_df': [0.9], 'cvec__max_features': [5000],\n",
       "                         'cvec__min_df': [2], 'cvec__ngram_range': [(1, 2)],\n",
       "                         'cvec__stop_words': [None], 'rf__max_depth': [4],\n",
       "                         'rf__max_features': ['auto'],\n",
       "                         'rf__n_estimators': [125]})"
      ]
     },
     "execution_count": 86,
     "metadata": {},
     "output_type": "execute_result"
    }
   ],
   "source": [
    "# From Random Forests and Extra Trees\n",
    "\n",
    "pipe3a = Pipeline([\n",
    "    ('cvec', CountVectorizer()),\n",
    "    ('rf', RandomForestClassifier())\n",
    "])\n",
    "\n",
    "pipe_params3a = {\n",
    "    'cvec__max_features': [5_000],\n",
    "    'cvec__stop_words': [None],\n",
    "    'cvec__min_df': [2],\n",
    "    'cvec__max_df': [.9],\n",
    "    'cvec__ngram_range': [(1,2)],\n",
    "    'rf__n_estimators': [125],\n",
    "    'rf__max_depth': [4],\n",
    "    'rf__max_features': ['auto']\n",
    "}\n",
    "\n",
    "gs3a = GridSearchCV(pipe3a, # what object are we optimizing?\n",
    "                  param_grid=pipe_params3a, # what parameters values are we searching?\n",
    "                  cv=2, # 5-fold cross-validation\n",
    "                  n_jobs=-1) # use all processors so faster\n",
    "\n",
    "%time gs3a.fit(X_train, y_train)"
   ]
  },
  {
   "cell_type": "code",
   "execution_count": 87,
   "metadata": {},
   "outputs": [
    {
     "name": "stdout",
     "output_type": "stream",
     "text": [
      "Best Score(cross_val_score) is:  0.5778374472008672\n",
      "----------------------------------------------------------------------\n",
      "Best parameters for the best score(cross_val_score) are:  {'cvec__max_df': 0.9, 'cvec__max_features': 5000, 'cvec__min_df': 2, 'cvec__ngram_range': (1, 2), 'cvec__stop_words': None, 'rf__max_depth': 4, 'rf__max_features': 'auto', 'rf__n_estimators': 125}\n",
      "----------------------------------------------------------------------\n",
      "Train score is:  0.5779745068965947\n",
      "Test score is:  0.5780207457246986\n",
      "----------------------------------------------------------------------\n",
      "Specificity:  0.9999676553352524\n",
      "Sensitivity:  0.00048698423941916064\n"
     ]
    },
    {
     "data": {
      "image/png": "[encoded data removed]",
      "text/plain": [
       "<Figure size 432x288 with 2 Axes>"
      ]
     },
     "metadata": {
      "needs_background": "light"
     },
     "output_type": "display_data"
    }
   ],
   "source": [
    "results(gs3a,X_test,y_test, X_train, y_train)"
   ]
  },
  {
   "cell_type": "markdown",
   "metadata": {},
   "source": [
    "### Model Group 1d: \n",
    " * **Based on:** Words in the Title\n",
    " * **Vectorizer:** TfidfVectorizer\n",
    " * **Model:** Multinomial Naive Bayes"
   ]
  },
  {
   "cell_type": "code",
   "execution_count": 88,
   "metadata": {},
   "outputs": [
    {
     "name": "stdout",
     "output_type": "stream",
     "text": [
      "Wall time: 11.4 s\n"
     ]
    },
    {
     "data": {
      "text/plain": [
       "GridSearchCV(cv=3,\n",
       "             estimator=Pipeline(steps=[('tvec', TfidfVectorizer()),\n",
       "                                       ('nb', MultinomialNB())]),\n",
       "             n_jobs=-1,\n",
       "             param_grid={'tvec__max_features': [5000],\n",
       "                         'tvec__ngram_range': [(1, 1), (1, 2)],\n",
       "                         'tvec__stop_words': ['english', None]})"
      ]
     },
     "execution_count": 88,
     "metadata": {},
     "output_type": "execute_result"
    }
   ],
   "source": [
    "# From NLP II lecture\n",
    "\n",
    "# Let's set a pipeline up with two stages:\n",
    "# 1. CountVectorizer (transformer)\n",
    "# 2. Multinomial Naive Bayes (estimator)\n",
    "\n",
    "pipe4 = Pipeline([\n",
    "    ('tvec', TfidfVectorizer()),\n",
    "    ('nb', MultinomialNB())\n",
    "])\n",
    "\n",
    "pipe_params4 = {\n",
    "    'tvec__max_features': [5_000],\n",
    "    'tvec__stop_words': ['english',None],\n",
    "    'tvec__ngram_range': [(1,1), (1,2)]\n",
    "}\n",
    "\n",
    "gs4 = GridSearchCV(pipe4, # what object are we optimizing?\n",
    "                  param_grid=pipe_params4, # what parameters values are we searching?\n",
    "                  cv=3, # 5-fold cross-validation\n",
    "                  n_jobs=-1)\n",
    "\n",
    "%time gs4.fit(X_train, y_train)"
   ]
  },
  {
   "cell_type": "code",
   "execution_count": 89,
   "metadata": {},
   "outputs": [
    {
     "name": "stdout",
     "output_type": "stream",
     "text": [
      "Best Score(cross_val_score) is:  0.6709321245279286\n",
      "----------------------------------------------------------------------\n",
      "Best parameters for the best score(cross_val_score) are:  {'tvec__max_features': 5000, 'tvec__ngram_range': (1, 2), 'tvec__stop_words': 'english'}\n",
      "----------------------------------------------------------------------\n",
      "Train score is:  0.686014927046862\n",
      "Test score is:  0.6761050369124381\n",
      "----------------------------------------------------------------------\n",
      "Specificity:  0.838244331597503\n",
      "Sensitivity:  0.45417921020010626\n"
     ]
    },
    {
     "data": {
      "image/png": "[encoded data removed]",
      "text/plain": [
       "<Figure size 432x288 with 2 Axes>"
      ]
     },
     "metadata": {
      "needs_background": "light"
     },
     "output_type": "display_data"
    }
   ],
   "source": [
    "results(gs4,X_test,y_test, X_train, y_train)"
   ]
  },
  {
   "cell_type": "markdown",
   "metadata": {},
   "source": [
    "### Model Group 1e: \n",
    " * **Based on:** Words in the Title\n",
    " * **Vectorizer:** TfidfVectorizer\n",
    " * **Model:** Logistic"
   ]
  },
  {
   "cell_type": "code",
   "execution_count": 92,
   "metadata": {},
   "outputs": [
    {
     "name": "stdout",
     "output_type": "stream",
     "text": [
      "Wall time: 2min 2s\n"
     ]
    },
    {
     "data": {
      "text/plain": [
       "GridSearchCV(cv=3,\n",
       "             estimator=Pipeline(steps=[('tvec', TfidfVectorizer()),\n",
       "                                       ('log', LogisticRegression())]),\n",
       "             param_grid={'log__C': [0.1, 1, 10], 'log__penalty': ['l1'],\n",
       "                         'log__solver': ['liblinear'],\n",
       "                         'tvec__max_features': [5000],\n",
       "                         'tvec__ngram_range': [(1, 1), (1, 2)],\n",
       "                         'tvec__stop_words': ['english', None]})"
      ]
     },
     "execution_count": 92,
     "metadata": {},
     "output_type": "execute_result"
    }
   ],
   "source": [
    "# From NLP_tweets\n",
    "\n",
    "pipe5 = Pipeline([\n",
    "    ('tvec', TfidfVectorizer()),\n",
    "    ('log', LogisticRegression())\n",
    "])\n",
    "\n",
    "pipe_params5 = {\n",
    "    'tvec__max_features': [5_000],\n",
    "    'tvec__stop_words': ['english',None],\n",
    "    'tvec__ngram_range': [(1,1), (1,2)],\n",
    "    'log__C': [.1, 1, 10],\n",
    "    'log__solver': ['liblinear'],\n",
    "    'log__penalty': ['l1']\n",
    "}\n",
    "\n",
    "gs5 = GridSearchCV(pipe5, # what object are we optimizing?\n",
    "                  param_grid=pipe_params5, # what parameters values are we searching?\n",
    "                  cv=3) # 5-fold cross-validation.\n",
    "\n",
    "%time gs5.fit(X_train, y_train)"
   ]
  },
  {
   "cell_type": "code",
   "execution_count": 93,
   "metadata": {},
   "outputs": [
    {
     "name": "stdout",
     "output_type": "stream",
     "text": [
      "Best Score(cross_val_score) is:  0.6892046738866614\n",
      "----------------------------------------------------------------------\n",
      "Best parameters for the best score(cross_val_score) are:  {'log__C': 1, 'log__penalty': 'l1', 'log__solver': 'liblinear', 'tvec__max_features': 5000, 'tvec__ngram_range': (1, 2), 'tvec__stop_words': None}\n",
      "----------------------------------------------------------------------\n",
      "Train score is:  0.7131589767870715\n",
      "Test score is:  0.6943463227735726\n",
      "----------------------------------------------------------------------\n",
      "Specificity:  0.7813177216418152\n",
      "Sensitivity:  0.5753054719319993\n"
     ]
    },
    {
     "data": {
      "image/png": "[encoded data removed]",
      "text/plain": [
       "<Figure size 432x288 with 2 Axes>"
      ]
     },
     "metadata": {
      "needs_background": "light"
     },
     "output_type": "display_data"
    }
   ],
   "source": [
    "results(gs5,X_test,y_test, X_train, y_train)"
   ]
  },
  {
   "cell_type": "markdown",
   "metadata": {},
   "source": [
    "### Model Group 1f: \n",
    " * **Based on:** Words in the Title\n",
    " * **Vectorizer:** TfidfVectorizer\n",
    " * **Model:** Random Forest"
   ]
  },
  {
   "cell_type": "code",
   "execution_count": 95,
   "metadata": {},
   "outputs": [
    {
     "name": "stdout",
     "output_type": "stream",
     "text": [
      "Wall time: 24.7 s\n"
     ]
    },
    {
     "data": {
      "text/plain": [
       "GridSearchCV(cv=3,\n",
       "             estimator=Pipeline(steps=[('tvec', TfidfVectorizer()),\n",
       "                                       ('rf', RandomForestClassifier())]),\n",
       "             param_grid={'rf__max_depth': [4], 'rf__max_features': ['auto'],\n",
       "                         'rf__n_estimators': [125],\n",
       "                         'tvec__max_features': [5000],\n",
       "                         'tvec__ngram_range': [(1, 2)],\n",
       "                         'tvec__stop_words': [None]})"
      ]
     },
     "execution_count": 95,
     "metadata": {},
     "output_type": "execute_result"
    }
   ],
   "source": [
    "# From Random Forests and Extra Trees\n",
    "\n",
    "pipe6 = Pipeline([\n",
    "    ('tvec', TfidfVectorizer()),\n",
    "    ('rf', RandomForestClassifier())\n",
    "])\n",
    "\n",
    "pipe_params6 = {\n",
    "    'tvec__max_features': [5_000],\n",
    "    'tvec__stop_words': [None],\n",
    "    'tvec__ngram_range': [(1,2)],\n",
    "    'rf__n_estimators': [125],\n",
    "    'rf__max_depth': [4],\n",
    "    'rf__max_features': ['auto']\n",
    "}\n",
    "\n",
    "gs6 = GridSearchCV(pipe6, # what object are we optimizing?\n",
    "                  param_grid=pipe_params6, # what parameters values are we searching?\n",
    "                  cv=3) # 5-fold cross-validation.\n",
    "\n",
    "%time gs6.fit(X_train, y_train)"
   ]
  },
  {
   "cell_type": "code",
   "execution_count": 96,
   "metadata": {},
   "outputs": [
    {
     "name": "stdout",
     "output_type": "stream",
     "text": [
      "Best Score(cross_val_score) is:  0.5783047006331445\n",
      "----------------------------------------------------------------------\n",
      "Best parameters for the best score(cross_val_score) are:  {'rf__max_depth': 4, 'rf__max_features': 'auto', 'rf__n_estimators': 125, 'tvec__max_features': 5000, 'tvec__ngram_range': (1, 2), 'tvec__stop_words': None}\n",
      "----------------------------------------------------------------------\n",
      "Train score is:  0.578124026564661\n",
      "Test score is:  0.5780581254088403\n",
      "----------------------------------------------------------------------\n",
      "Specificity:  0.9999676553352524\n",
      "Sensitivity:  0.0005755268284044626\n"
     ]
    },
    {
     "data": {
      "image/png": "[encoded data removed]",
      "text/plain": [
       "<Figure size 432x288 with 2 Axes>"
      ]
     },
     "metadata": {
      "needs_background": "light"
     },
     "output_type": "display_data"
    }
   ],
   "source": [
    "results(gs6,X_test,y_test, X_train, y_train)"
   ]
  },
  {
   "cell_type": "markdown",
   "metadata": {},
   "source": [
    "---\n",
    "## Second Group of Models:  Model based on URL\n",
    "---\n",
    "\n",
    "###  try 2 vectorizers: CountVectorizer and TfidfVectorizer\n",
    "### try 3 models: Logistic, Multinomial Naive Bayes, Random Forests \n",
    "---"
   ]
  },
  {
   "cell_type": "code",
   "execution_count": 57,
   "metadata": {},
   "outputs": [],
   "source": [
    "X2 = df['url_primary_long']\n",
    "y2 = df['subreddit']\n",
    "\n",
    "# Split the data\n",
    "X_train2, X_test2, y_train2, y_test2 = train_test_split(X2,\n",
    "                                                        y2,\n",
    "                                                        stratify = y2,\n",
    "                                                        random_state=42)"
   ]
  },
  {
   "cell_type": "markdown",
   "metadata": {},
   "source": [
    "### Model Group 2a: \n",
    " * **Based on:** URL\n",
    " * **Vectorizer:** CountVectorizer\n",
    " * **Model:** Multinomial Naive Bays"
   ]
  },
  {
   "cell_type": "code",
   "execution_count": 98,
   "metadata": {},
   "outputs": [
    {
     "data": {
      "text/plain": [
       "GridSearchCV(cv=3,\n",
       "             estimator=Pipeline(steps=[('cvec', CountVectorizer()),\n",
       "                                       ('nb', MultinomialNB())]),\n",
       "             param_grid={'cvec__max_df': [0.9, 0.95], 'cvec__min_df': [2, 3],\n",
       "                         'cvec__ngram_range': [(1, 1), (1, 2)],\n",
       "                         'cvec__stop_words': ['english', None]})"
      ]
     },
     "execution_count": 98,
     "metadata": {},
     "output_type": "execute_result"
    }
   ],
   "source": [
    "# From NLP II lecture\n",
    "\n",
    "# Let's set a pipeline up with two stages:\n",
    "# 1. CountVectorizer (transformer)\n",
    "# 2. Multinomial Naive Bayes (estimator)\n",
    "\n",
    "pipe7 = Pipeline([\n",
    "    ('cvec', CountVectorizer()),\n",
    "    ('nb', MultinomialNB())\n",
    "])\n",
    "\n",
    "pipe_params7 = {\n",
    "    'cvec__stop_words': ['english',None],\n",
    "    'cvec__min_df': [2, 3],\n",
    "    'cvec__max_df': [.9, .95],\n",
    "    'cvec__ngram_range': [(1,1), (1,2)]\n",
    "}\n",
    "\n",
    "gs7 = GridSearchCV(pipe7, # what object are we optimizing?\n",
    "                  param_grid=pipe_params7, # what parameters values are we searching?\n",
    "                  cv=3) # 5-fold cross-validation.\n",
    "\n",
    "gs7.fit(X_train2, y_train2)"
   ]
  },
  {
   "cell_type": "code",
   "execution_count": 99,
   "metadata": {},
   "outputs": [
    {
     "name": "stdout",
     "output_type": "stream",
     "text": [
      "Best Score(cross_val_score) is:  0.7721195708449343\n",
      "----------------------------------------------------------------------\n",
      "Best parameters for the best score(cross_val_score) are:  {'cvec__max_df': 0.9, 'cvec__min_df': 2, 'cvec__ngram_range': (1, 1), 'cvec__stop_words': 'english'}\n",
      "----------------------------------------------------------------------\n",
      "Train score is:  0.7827479222996125\n",
      "Test score is:  0.7763386599383235\n",
      "----------------------------------------------------------------------\n",
      "Specificity:  0.9029983504220979\n",
      "Sensitivity:  0.6029750309899061\n"
     ]
    },
    {
     "data": {
      "image/png": "[encoded data removed]",
      "text/plain": [
       "<Figure size 432x288 with 2 Axes>"
      ]
     },
     "metadata": {
      "needs_background": "light"
     },
     "output_type": "display_data"
    }
   ],
   "source": [
    "results(gs7,X_test2,y_test2, X_train2, y_train2)"
   ]
  },
  {
   "cell_type": "markdown",
   "metadata": {},
   "source": [
    "### Model Group 2b: \n",
    " * **Based on:** URL\n",
    " * **Vectorizer:** CountVectorizer\n",
    " * **Model:** Logistic"
   ]
  },
  {
   "cell_type": "code",
   "execution_count": 100,
   "metadata": {},
   "outputs": [
    {
     "data": {
      "text/plain": [
       "GridSearchCV(cv=3,\n",
       "             estimator=Pipeline(steps=[('cvec', CountVectorizer()),\n",
       "                                       ('log', LogisticRegression())]),\n",
       "             param_grid={'cvec__max_df': [0.9, 0.95], 'cvec__min_df': [2, 3],\n",
       "                         'cvec__ngram_range': [(1, 1), (1, 2)],\n",
       "                         'cvec__stop_words': ['english', None],\n",
       "                         'log__C': [0.1, 1, 10], 'log__penalty': ['l1'],\n",
       "                         'log__solver': ['liblinear']})"
      ]
     },
     "execution_count": 100,
     "metadata": {},
     "output_type": "execute_result"
    }
   ],
   "source": [
    "# From NLP_tweets\n",
    "\n",
    "pipe8 = Pipeline([\n",
    "    ('cvec', CountVectorizer()),\n",
    "    ('log', LogisticRegression())\n",
    "])\n",
    "\n",
    "pipe_params8 = {\n",
    "    'cvec__stop_words': ['english', None],\n",
    "    'cvec__min_df': [2, 3],\n",
    "    'cvec__max_df': [.9, .95],\n",
    "    'cvec__ngram_range': [(1,1), (1,2)],\n",
    "    'log__C': [.1, 1, 10],\n",
    "    'log__solver': ['liblinear'],\n",
    "    'log__penalty': ['l1']\n",
    "}\n",
    "\n",
    "gs8 = GridSearchCV(pipe8, # what object are we optimizing?\n",
    "                  param_grid=pipe_params8, # what parameters values are we searching?\n",
    "                  cv=3) # 5-fold cross-validation.\n",
    "\n",
    "gs8.fit(X_train2, y_train2)"
   ]
  },
  {
   "cell_type": "code",
   "execution_count": 101,
   "metadata": {},
   "outputs": [
    {
     "name": "stdout",
     "output_type": "stream",
     "text": [
      "Best Score(cross_val_score) is:  0.773066525288407\n",
      "----------------------------------------------------------------------\n",
      "Best parameters for the best score(cross_val_score) are:  {'cvec__max_df': 0.95, 'cvec__min_df': 2, 'cvec__ngram_range': (1, 2), 'cvec__stop_words': None, 'log__C': 10, 'log__penalty': 'l1', 'log__solver': 'liblinear'}\n",
      "----------------------------------------------------------------------\n",
      "Train score is:  0.7854081263939594\n",
      "Test score is:  0.7776843285674236\n",
      "----------------------------------------------------------------------\n",
      "Specificity:  0.9044862050004852\n",
      "Sensitivity:  0.604126084646715\n"
     ]
    },
    {
     "data": {
      "image/png": "[encoded data removed]",
      "text/plain": [
       "<Figure size 432x288 with 2 Axes>"
      ]
     },
     "metadata": {
      "needs_background": "light"
     },
     "output_type": "display_data"
    }
   ],
   "source": [
    "results(gs8,X_test2,y_test2, X_train2, y_train2)"
   ]
  },
  {
   "cell_type": "markdown",
   "metadata": {},
   "source": [
    "### Model Group 2c: \n",
    " * **Based on:** URL\n",
    " * **Vectorizer:** CountVectorizer\n",
    " * **Model:** Random Forest"
   ]
  },
  {
   "cell_type": "markdown",
   "metadata": {},
   "source": [
    "### Note: Not Run due to lack of time"
   ]
  },
  {
   "cell_type": "code",
   "execution_count": null,
   "metadata": {},
   "outputs": [],
   "source": [
    "# From Random Forests and Extra Trees\n",
    "\n",
    "pipe9 = Pipeline([\n",
    "    ('cvec', CountVectorizer()),\n",
    "    ('rf', RandomForestClassifier())\n",
    "])\n",
    "\n",
    "pipe_params9 = {\n",
    "    'cvec__stop_words': ['english',None],\n",
    "    'cvec__min_df': [2, 3],\n",
    "    'cvec__max_df': [.9, .95],\n",
    "    'cvec__ngram_range': [(1,1), (1,2)],\n",
    "    'rf__n_estimators': [75, 100, 125],\n",
    "    'rf__max_depth': [None, 3, 4],\n",
    "    'rf__max_features': ['auto', None]\n",
    "}\n",
    "\n",
    "gs9 = GridSearchCV(pipe9, # what object are we optimizing?\n",
    "                  param_grid=pipe_params9, # what parameters values are we searching?\n",
    "                  cv=3) # 5-fold cross-validation.\n",
    "\n",
    "gs9.fit(X_train2, y_train2)"
   ]
  },
  {
   "cell_type": "code",
   "execution_count": null,
   "metadata": {},
   "outputs": [],
   "source": [
    "results(gs9,X_test2,y_test2, X_train2, y_train2)"
   ]
  },
  {
   "cell_type": "markdown",
   "metadata": {},
   "source": [
    "### Model Group 2d: \n",
    " * **Based on:** URL\n",
    " * **Vectorizer:** TfidfVectorizer\n",
    " * **Model:** Multinomial Naive Bays"
   ]
  },
  {
   "cell_type": "code",
   "execution_count": 102,
   "metadata": {},
   "outputs": [
    {
     "data": {
      "text/plain": [
       "GridSearchCV(cv=3,\n",
       "             estimator=Pipeline(steps=[('tvec', TfidfVectorizer()),\n",
       "                                       ('nb', MultinomialNB())]),\n",
       "             param_grid={'tvec__ngram_range': [(1, 1), (1, 2)],\n",
       "                         'tvec__stop_words': ['english', None]})"
      ]
     },
     "execution_count": 102,
     "metadata": {},
     "output_type": "execute_result"
    }
   ],
   "source": [
    "# From NLP II lecture\n",
    "\n",
    "# Let's set a pipeline up with two stages:\n",
    "# 1. CountVectorizer (transformer)\n",
    "# 2. Multinomial Naive Bayes (estimator)\n",
    "\n",
    "pipe10 = Pipeline([\n",
    "    ('tvec', TfidfVectorizer()),\n",
    "    ('nb', MultinomialNB())\n",
    "])\n",
    "\n",
    "pipe_params10 = {\n",
    "    'tvec__stop_words': ['english',None],\n",
    "    'tvec__ngram_range': [(1,1), (1,2)]\n",
    "}\n",
    "\n",
    "gs10 = GridSearchCV(pipe10, # what object are we optimizing?\n",
    "                  param_grid=pipe_params10, # what parameters values are we searching?\n",
    "                  cv=3) # 5-fold cross-validation.\n",
    "\n",
    "gs10.fit(X_train2, y_train2)"
   ]
  },
  {
   "cell_type": "code",
   "execution_count": 103,
   "metadata": {},
   "outputs": [
    {
     "name": "stdout",
     "output_type": "stream",
     "text": [
      "Best Score(cross_val_score) is:  0.7751722611184068\n",
      "----------------------------------------------------------------------\n",
      "Best parameters for the best score(cross_val_score) are:  {'tvec__ngram_range': (1, 2), 'tvec__stop_words': None}\n",
      "----------------------------------------------------------------------\n",
      "Train score is:  0.7956377636841646\n",
      "Test score is:  0.7787309597233903\n",
      "----------------------------------------------------------------------\n",
      "Specificity:  0.898534786686936\n",
      "Sensitivity:  0.6147511953249513\n"
     ]
    },
    {
     "data": {
      "image/png": "[encoded data removed]",
      "text/plain": [
       "<Figure size 432x288 with 2 Axes>"
      ]
     },
     "metadata": {
      "needs_background": "light"
     },
     "output_type": "display_data"
    }
   ],
   "source": [
    "results(gs10,X_test2,y_test2, X_train2, y_train2)"
   ]
  },
  {
   "cell_type": "markdown",
   "metadata": {},
   "source": [
    "### Model Group 2e: \n",
    " * **Based on:** URL\n",
    " * **Vectorizer:** TfidfVectorizer\n",
    " * **Model:** Logistic"
   ]
  },
  {
   "cell_type": "code",
   "execution_count": 106,
   "metadata": {},
   "outputs": [
    {
     "name": "stderr",
     "output_type": "stream",
     "text": [
      "C:\\Users\\jennw\\anaconda3\\lib\\site-packages\\sklearn\\svm\\_base.py:976: ConvergenceWarning: Liblinear failed to converge, increase the number of iterations.\n",
      "  warnings.warn(\"Liblinear failed to converge, increase \"\n"
     ]
    },
    {
     "data": {
      "text/plain": [
       "GridSearchCV(cv=3,\n",
       "             estimator=Pipeline(steps=[('tvec', TfidfVectorizer()),\n",
       "                                       ('log', LogisticRegression())]),\n",
       "             param_grid={'log__C': [0.1, 1, 10], 'log__penalty': ['l1'],\n",
       "                         'log__solver': ['liblinear'],\n",
       "                         'tvec__ngram_range': [(1, 1), (1, 2)],\n",
       "                         'tvec__stop_words': ['english', None]})"
      ]
     },
     "execution_count": 106,
     "metadata": {},
     "output_type": "execute_result"
    }
   ],
   "source": [
    "# From NLP_tweets\n",
    "\n",
    "pipe11 = Pipeline([\n",
    "    ('tvec', TfidfVectorizer()),\n",
    "    ('log', LogisticRegression())\n",
    "])\n",
    "\n",
    "pipe_params11 = {\n",
    "    'tvec__stop_words': ['english',None],\n",
    "    'tvec__ngram_range': [(1,1), (1,2)],\n",
    "    'log__C': [.1, 1, 10],\n",
    "    'log__solver': ['liblinear'],\n",
    "    'log__penalty': ['l1']\n",
    "}\n",
    "\n",
    "gs11 = GridSearchCV(pipe11, # what object are we optimizing?\n",
    "                  param_grid=pipe_params11, # what parameters values are we searching?\n",
    "                  cv=3) # 5-fold cross-validation.\n",
    "\n",
    "gs11.fit(X_train2, y_train2)"
   ]
  },
  {
   "cell_type": "code",
   "execution_count": 107,
   "metadata": {},
   "outputs": [
    {
     "name": "stdout",
     "output_type": "stream",
     "text": [
      "Best Score(cross_val_score) is:  0.7756145890108944\n",
      "----------------------------------------------------------------------\n",
      "Best parameters for the best score(cross_val_score) are:  {'log__C': 10, 'log__penalty': 'l1', 'log__solver': 'liblinear', 'tvec__ngram_range': (1, 2), 'tvec__stop_words': 'english'}\n",
      "----------------------------------------------------------------------\n",
      "Train score is:  0.7971890302403528\n",
      "Test score is:  0.7797215213531445\n",
      "----------------------------------------------------------------------\n",
      "Specificity:  0.9033541417343209\n",
      "Sensitivity:  0.6105011510536568\n"
     ]
    },
    {
     "data": {
      "image/png": "[encoded data removed]",
      "text/plain": [
       "<Figure size 432x288 with 2 Axes>"
      ]
     },
     "metadata": {
      "needs_background": "light"
     },
     "output_type": "display_data"
    }
   ],
   "source": [
    "results(gs11,X_test2,y_test2, X_train2, y_train2)"
   ]
  },
  {
   "cell_type": "markdown",
   "metadata": {},
   "source": [
    "### Performs best of Group 2 - so analyze the best result of the grid search"
   ]
  },
  {
   "cell_type": "code",
   "execution_count": 60,
   "metadata": {},
   "outputs": [
    {
     "data": {
      "text/plain": [
       "(0.7971890302403528, 0.779665451826932)"
      ]
     },
     "execution_count": 60,
     "metadata": {},
     "output_type": "execute_result"
    }
   ],
   "source": [
    "tvec = TfidfVectorizer(stop_words='english',\n",
    "                       ngram_range=(1,2))\n",
    "\n",
    "X_train_b = pd.DataFrame(tvec.fit_transform(X_train2).todense(),\n",
    "                        columns=tvec.get_feature_names())\n",
    "\n",
    "X_test_b = pd.DataFrame(tvec.transform(X_test2).todense(),\n",
    "                        columns=tvec.get_feature_names())\n",
    "\n",
    "logreg = LogisticRegression(C=10,\n",
    "                            solver='liblinear',\n",
    "                           penalty='l1')\n",
    "\n",
    "logreg.fit(X_train_b, y_train2)\n",
    "\n",
    "logreg.score(X_train_b, y_train2), logreg.score(X_test_b, y_test2)\n"
   ]
  },
  {
   "cell_type": "code",
   "execution_count": 62,
   "metadata": {},
   "outputs": [
    {
     "data": {
      "text/html": [
       "<div>\n",
       "<style scoped>\n",
       "    .dataframe tbody tr th:only-of-type {\n",
       "        vertical-align: middle;\n",
       "    }\n",
       "\n",
       "    .dataframe tbody tr th {\n",
       "        vertical-align: top;\n",
       "    }\n",
       "\n",
       "    .dataframe thead th {\n",
       "        text-align: right;\n",
       "    }\n",
       "</style>\n",
       "<table border=\"1\" class=\"dataframe\">\n",
       "  <thead>\n",
       "    <tr style=\"text-align: right;\">\n",
       "      <th></th>\n",
       "      <th>coef</th>\n",
       "    </tr>\n",
       "    <tr>\n",
       "      <th>feature</th>\n",
       "      <th></th>\n",
       "    </tr>\n",
       "  </thead>\n",
       "  <tbody>\n",
       "    <tr>\n",
       "      <th>liveaction</th>\n",
       "      <td>3.624483e+06</td>\n",
       "    </tr>\n",
       "    <tr>\n",
       "      <th>nu</th>\n",
       "      <td>2.585821e+06</td>\n",
       "    </tr>\n",
       "    <tr>\n",
       "      <th>mises</th>\n",
       "      <td>1.063140e+05</td>\n",
       "    </tr>\n",
       "    <tr>\n",
       "      <th>aei</th>\n",
       "      <td>7.524318e+04</td>\n",
       "    </tr>\n",
       "    <tr>\n",
       "      <th>tedcruz org</th>\n",
       "      <td>2.090318e+04</td>\n",
       "    </tr>\n",
       "    <tr>\n",
       "      <th>city</th>\n",
       "      <td>1.500705e+04</td>\n",
       "    </tr>\n",
       "    <tr>\n",
       "      <th>free</th>\n",
       "      <td>1.235561e+04</td>\n",
       "    </tr>\n",
       "    <tr>\n",
       "      <th>newrightnetwork</th>\n",
       "      <td>7.548828e+03</td>\n",
       "    </tr>\n",
       "    <tr>\n",
       "      <th>vdare com</th>\n",
       "      <td>7.162094e+03</td>\n",
       "    </tr>\n",
       "    <tr>\n",
       "      <th>spectator org</th>\n",
       "      <td>6.597650e+03</td>\n",
       "    </tr>\n",
       "    <tr>\n",
       "      <th>climate</th>\n",
       "      <td>6.090729e+03</td>\n",
       "    </tr>\n",
       "    <tr>\n",
       "      <th>rightsidenews</th>\n",
       "      <td>5.825637e+03</td>\n",
       "    </tr>\n",
       "    <tr>\n",
       "      <th>independent org</th>\n",
       "      <td>5.326842e+03</td>\n",
       "    </tr>\n",
       "    <tr>\n",
       "      <th>science</th>\n",
       "      <td>4.459922e+03</td>\n",
       "    </tr>\n",
       "    <tr>\n",
       "      <th>postimg org</th>\n",
       "      <td>3.645781e+03</td>\n",
       "    </tr>\n",
       "    <tr>\n",
       "      <th>twinsopinion</th>\n",
       "      <td>3.561697e+03</td>\n",
       "    </tr>\n",
       "    <tr>\n",
       "      <th>gatestoneinstitute org</th>\n",
       "      <td>3.070476e+03</td>\n",
       "    </tr>\n",
       "    <tr>\n",
       "      <th>dailysignal</th>\n",
       "      <td>2.610544e+03</td>\n",
       "    </tr>\n",
       "    <tr>\n",
       "      <th>summit news</th>\n",
       "      <td>2.541310e+03</td>\n",
       "    </tr>\n",
       "    <tr>\n",
       "      <th>100percentfedup com</th>\n",
       "      <td>2.481762e+03</td>\n",
       "    </tr>\n",
       "    <tr>\n",
       "      <th>creepingsharia</th>\n",
       "      <td>2.425289e+03</td>\n",
       "    </tr>\n",
       "    <tr>\n",
       "      <th>thefederalistpapers org</th>\n",
       "      <td>1.914580e+03</td>\n",
       "    </tr>\n",
       "    <tr>\n",
       "      <th>westernjournal</th>\n",
       "      <td>1.871784e+03</td>\n",
       "    </tr>\n",
       "    <tr>\n",
       "      <th>cis org</th>\n",
       "      <td>1.868383e+03</td>\n",
       "    </tr>\n",
       "    <tr>\n",
       "      <th>paul</th>\n",
       "      <td>1.830693e+03</td>\n",
       "    </tr>\n",
       "  </tbody>\n",
       "</table>\n",
       "</div>"
      ],
      "text/plain": [
       "                                 coef\n",
       "feature                              \n",
       "liveaction               3.624483e+06\n",
       "nu                       2.585821e+06\n",
       "mises                    1.063140e+05\n",
       "aei                      7.524318e+04\n",
       "tedcruz org              2.090318e+04\n",
       "city                     1.500705e+04\n",
       "free                     1.235561e+04\n",
       "newrightnetwork          7.548828e+03\n",
       "vdare com                7.162094e+03\n",
       "spectator org            6.597650e+03\n",
       "climate                  6.090729e+03\n",
       "rightsidenews            5.825637e+03\n",
       "independent org          5.326842e+03\n",
       "science                  4.459922e+03\n",
       "postimg org              3.645781e+03\n",
       "twinsopinion             3.561697e+03\n",
       "gatestoneinstitute org   3.070476e+03\n",
       "dailysignal              2.610544e+03\n",
       "summit news              2.541310e+03\n",
       "100percentfedup com      2.481762e+03\n",
       "creepingsharia           2.425289e+03\n",
       "thefederalistpapers org  1.914580e+03\n",
       "westernjournal           1.871784e+03\n",
       "cis org                  1.868383e+03\n",
       "paul                     1.830693e+03"
      ]
     },
     "execution_count": 62,
     "metadata": {},
     "output_type": "execute_result"
    }
   ],
   "source": [
    "logreg.coef_\n",
    "\n",
    "coefs = np.exp(logreg.coef_)\n",
    "cols = X_train_b.columns\n",
    "\n",
    "coefs_df = pd.DataFrame(zip(coefs[0], cols), columns = ['coef','feature'])\n",
    "\n",
    "coefs_df.head()\n",
    " \n",
    "coefs_df.sort_values('coef',ascending = False).head(25).set_index('feature')"
   ]
  },
  {
   "cell_type": "code",
   "execution_count": 64,
   "metadata": {},
   "outputs": [
    {
     "data": {
      "text/plain": [
       "<matplotlib.axes._subplots.AxesSubplot at 0x248c07b5cd0>"
      ]
     },
     "execution_count": 64,
     "metadata": {},
     "output_type": "execute_result"
    },
    {
     "data": {
      "image/png": "[encoded data removed]",
      "text/plain": [
       "<Figure size 216x720 with 2 Axes>"
      ]
     },
     "metadata": {
      "needs_background": "light"
     },
     "output_type": "display_data"
    }
   ],
   "source": [
    "plt.figure(figsize = (3,10))\n",
    "sns.heatmap(coefs_df.sort_values('coef',ascending = False).head(25).set_index('feature'),\n",
    "           cmap = 'Blues',\n",
    "           #vmin = 1,\n",
    "           annot = True)"
   ]
  },
  {
   "cell_type": "markdown",
   "metadata": {},
   "source": [
    "### Model Group 2f: \n",
    " * **Based on:** URL\n",
    " * **Vectorizer:** TfidfVectorizer\n",
    " * **Model:** Random Forest"
   ]
  },
  {
   "cell_type": "markdown",
   "metadata": {},
   "source": [
    "### Note: Not Run due to lack of time"
   ]
  },
  {
   "cell_type": "code",
   "execution_count": null,
   "metadata": {},
   "outputs": [],
   "source": [
    "# From Random Forests and Extra Trees\n",
    "\n",
    "pipe12 = Pipeline([\n",
    "    ('tvec', TfidfVectorizer()),\n",
    "    ('rf', RandomForestClassifier())\n",
    "])\n",
    "\n",
    "pipe_params12 = {\n",
    "    'tvec__stop_words': ['english',None],\n",
    "    'tvec__ngram_range': [(1,1), (1,2)]\n",
    "    'rf__n_estimators': [75, 100, 125],\n",
    "    'rf__max_depth': [None, 3, 4],\n",
    "    'rf__max_features': ['auto', None]\n",
    "}\n",
    "\n",
    "gs12 = GridSearchCV(pipe12, # what object are we optimizing?\n",
    "                  param_grid=pipe_params12, # what parameters values are we searching?\n",
    "                  cv=3) # 5-fold cross-validation.\n",
    "\n",
    "gs12.fit(X_train, y_train)"
   ]
  },
  {
   "cell_type": "code",
   "execution_count": null,
   "metadata": {},
   "outputs": [],
   "source": [
    "results(gs12,X_test,y_test, X_train, y_train)"
   ]
  },
  {
   "cell_type": "markdown",
   "metadata": {},
   "source": [
    "---\n",
    "## Third Group of Models:  Words in the Title, URL, and Title Characteristics\n",
    "---\n",
    "\n",
    "###  vectorizers:  use the best params from above (either CountVectorizer or TfidfVectorizer) for each data type \n",
    "### try 3 models: Logistic, Multinomial Naive Bayes, Random Forests \n",
    "---"
   ]
  },
  {
   "cell_type": "code",
   "execution_count": 11,
   "metadata": {},
   "outputs": [],
   "source": [
    "X3 = df[['title','title_length','title_word_count','url_primary_long']]\n",
    "y3 = df['subreddit']\n",
    "\n",
    "# Split the data\n",
    "X_train3, X_test3, y_train3, y_test3 = train_test_split(X3,\n",
    "                                                        y3,\n",
    "                                                        stratify = y3,\n",
    "                                                        random_state=42)"
   ]
  },
  {
   "cell_type": "code",
   "execution_count": 19,
   "metadata": {},
   "outputs": [
    {
     "data": {
      "text/html": [
       "<div>\n",
       "<style scoped>\n",
       "    .dataframe tbody tr th:only-of-type {\n",
       "        vertical-align: middle;\n",
       "    }\n",
       "\n",
       "    .dataframe tbody tr th {\n",
       "        vertical-align: top;\n",
       "    }\n",
       "\n",
       "    .dataframe thead th {\n",
       "        text-align: right;\n",
       "    }\n",
       "</style>\n",
       "<table border=\"1\" class=\"dataframe\">\n",
       "  <thead>\n",
       "    <tr style=\"text-align: right;\">\n",
       "      <th></th>\n",
       "      <th>title</th>\n",
       "      <th>title_length</th>\n",
       "      <th>title_word_count</th>\n",
       "      <th>url_primary_long</th>\n",
       "    </tr>\n",
       "  </thead>\n",
       "  <tbody>\n",
       "    <tr>\n",
       "      <th>48078</th>\n",
       "      <td>3 GOP Senators Open to Delaying Kavanaugh Vote Over Sexual Assault Claim</td>\n",
       "      <td>72</td>\n",
       "      <td>12</td>\n",
       "      <td>nymag.com</td>\n",
       "    </tr>\n",
       "    <tr>\n",
       "      <th>41580</th>\n",
       "      <td>Of course President Trump dodged the draft. Should we still care? -- Trump made it clear to the right when it comes to the cultural divide of the 1960s, he’s firmly on their side. Trump signals to those voters through race and his highly visible attacks on African Americans who get too uppity.</td>\n",
       "      <td>294</td>\n",
       "      <td>53</td>\n",
       "      <td>washingtonpost.com</td>\n",
       "    </tr>\n",
       "    <tr>\n",
       "      <th>99786</th>\n",
       "      <td>Hillary Clinton announces plans to help people with autism access services, independence</td>\n",
       "      <td>88</td>\n",
       "      <td>12</td>\n",
       "      <td>mashable.com</td>\n",
       "    </tr>\n",
       "    <tr>\n",
       "      <th>10243</th>\n",
       "      <td>MIL shared this...smh</td>\n",
       "      <td>21</td>\n",
       "      <td>3</td>\n",
       "      <td>m.facebook.com</td>\n",
       "    </tr>\n",
       "    <tr>\n",
       "      <th>198441</th>\n",
       "      <td>Ramesh Ponnuru - Obamacare and Work</td>\n",
       "      <td>35</td>\n",
       "      <td>6</td>\n",
       "      <td>nationalreview.com</td>\n",
       "    </tr>\n",
       "  </tbody>\n",
       "</table>\n",
       "</div>"
      ],
      "text/plain": [
       "                                                                                                                                                                                                                                                                                                         title  \\\n",
       "48078                                                                                                                                                                                                                                 3 GOP Senators Open to Delaying Kavanaugh Vote Over Sexual Assault Claim   \n",
       "41580   Of course President Trump dodged the draft. Should we still care? -- Trump made it clear to the right when it comes to the cultural divide of the 1960s, he’s firmly on their side. Trump signals to those voters through race and his highly visible attacks on African Americans who get too uppity.   \n",
       "99786                                                                                                                                                                                                                 Hillary Clinton announces plans to help people with autism access services, independence   \n",
       "10243                                                                                                                                                                                                                                                                                    MIL shared this...smh   \n",
       "198441                                                                                                                                                                                                                                                                     Ramesh Ponnuru - Obamacare and Work   \n",
       "\n",
       "        title_length  title_word_count    url_primary_long  \n",
       "48078             72                12           nymag.com  \n",
       "41580            294                53  washingtonpost.com  \n",
       "99786             88                12        mashable.com  \n",
       "10243             21                 3      m.facebook.com  \n",
       "198441            35                 6  nationalreview.com  "
      ]
     },
     "execution_count": 19,
     "metadata": {},
     "output_type": "execute_result"
    }
   ],
   "source": [
    "X_train3.head()"
   ]
  },
  {
   "cell_type": "markdown",
   "metadata": {},
   "source": [
    "### Separate out the title and vectorize using whichever vectorizer performed better above\n",
    "---\n",
    "#### Use CountVectorizer because performed better"
   ]
  },
  {
   "cell_type": "code",
   "execution_count": 12,
   "metadata": {},
   "outputs": [],
   "source": [
    "# From NLP_tweets\n",
    "\n",
    "cvec_title = CountVectorizer(max_features=3000,  # reduce so don't exceed memory\n",
    "                      stop_words='english',\n",
    "                      min_df=3,\n",
    "                      max_df=.9,\n",
    "                      ngram_range=(1,2))\n",
    "\n",
    "X_train3_title = pd.DataFrame(cvec_title.fit_transform(X_train3['title']).todense(),\n",
    "                              columns=cvec_title.get_feature_names())\n",
    "\n",
    "X_test3_title = pd.DataFrame(cvec_title.transform(X_test3['title']).todense(),\n",
    "                              columns=cvec_title.get_feature_names())"
   ]
  },
  {
   "cell_type": "code",
   "execution_count": 13,
   "metadata": {},
   "outputs": [
    {
     "data": {
      "text/html": [
       "<div>\n",
       "<style scoped>\n",
       "    .dataframe tbody tr th:only-of-type {\n",
       "        vertical-align: middle;\n",
       "    }\n",
       "\n",
       "    .dataframe tbody tr th {\n",
       "        vertical-align: top;\n",
       "    }\n",
       "\n",
       "    .dataframe thead th {\n",
       "        text-align: right;\n",
       "    }\n",
       "</style>\n",
       "<table border=\"1\" class=\"dataframe\">\n",
       "  <thead>\n",
       "    <tr style=\"text-align: right;\">\n",
       "      <th></th>\n",
       "      <th>000</th>\n",
       "      <th>10</th>\n",
       "      <th>100</th>\n",
       "      <th>100 000</th>\n",
       "      <th>11</th>\n",
       "      <th>12</th>\n",
       "      <th>13</th>\n",
       "      <th>14</th>\n",
       "      <th>15</th>\n",
       "      <th>16</th>\n",
       "      <th>...</th>\n",
       "      <th>years</th>\n",
       "      <th>years ago</th>\n",
       "      <th>yes</th>\n",
       "      <th>yesterday</th>\n",
       "      <th>york</th>\n",
       "      <th>york times</th>\n",
       "      <th>young</th>\n",
       "      <th>youth</th>\n",
       "      <th>youtube</th>\n",
       "      <th>zero</th>\n",
       "    </tr>\n",
       "  </thead>\n",
       "  <tbody>\n",
       "    <tr>\n",
       "      <th>0</th>\n",
       "      <td>0</td>\n",
       "      <td>0</td>\n",
       "      <td>0</td>\n",
       "      <td>0</td>\n",
       "      <td>0</td>\n",
       "      <td>0</td>\n",
       "      <td>0</td>\n",
       "      <td>0</td>\n",
       "      <td>0</td>\n",
       "      <td>0</td>\n",
       "      <td>...</td>\n",
       "      <td>0</td>\n",
       "      <td>0</td>\n",
       "      <td>0</td>\n",
       "      <td>0</td>\n",
       "      <td>0</td>\n",
       "      <td>0</td>\n",
       "      <td>0</td>\n",
       "      <td>0</td>\n",
       "      <td>0</td>\n",
       "      <td>0</td>\n",
       "    </tr>\n",
       "    <tr>\n",
       "      <th>1</th>\n",
       "      <td>0</td>\n",
       "      <td>0</td>\n",
       "      <td>0</td>\n",
       "      <td>0</td>\n",
       "      <td>0</td>\n",
       "      <td>0</td>\n",
       "      <td>0</td>\n",
       "      <td>0</td>\n",
       "      <td>0</td>\n",
       "      <td>0</td>\n",
       "      <td>...</td>\n",
       "      <td>0</td>\n",
       "      <td>0</td>\n",
       "      <td>0</td>\n",
       "      <td>0</td>\n",
       "      <td>0</td>\n",
       "      <td>0</td>\n",
       "      <td>0</td>\n",
       "      <td>0</td>\n",
       "      <td>0</td>\n",
       "      <td>0</td>\n",
       "    </tr>\n",
       "    <tr>\n",
       "      <th>2</th>\n",
       "      <td>0</td>\n",
       "      <td>0</td>\n",
       "      <td>0</td>\n",
       "      <td>0</td>\n",
       "      <td>0</td>\n",
       "      <td>0</td>\n",
       "      <td>0</td>\n",
       "      <td>0</td>\n",
       "      <td>0</td>\n",
       "      <td>0</td>\n",
       "      <td>...</td>\n",
       "      <td>0</td>\n",
       "      <td>0</td>\n",
       "      <td>0</td>\n",
       "      <td>0</td>\n",
       "      <td>0</td>\n",
       "      <td>0</td>\n",
       "      <td>0</td>\n",
       "      <td>0</td>\n",
       "      <td>0</td>\n",
       "      <td>0</td>\n",
       "    </tr>\n",
       "    <tr>\n",
       "      <th>3</th>\n",
       "      <td>0</td>\n",
       "      <td>0</td>\n",
       "      <td>0</td>\n",
       "      <td>0</td>\n",
       "      <td>0</td>\n",
       "      <td>0</td>\n",
       "      <td>0</td>\n",
       "      <td>0</td>\n",
       "      <td>0</td>\n",
       "      <td>0</td>\n",
       "      <td>...</td>\n",
       "      <td>0</td>\n",
       "      <td>0</td>\n",
       "      <td>0</td>\n",
       "      <td>0</td>\n",
       "      <td>0</td>\n",
       "      <td>0</td>\n",
       "      <td>0</td>\n",
       "      <td>0</td>\n",
       "      <td>0</td>\n",
       "      <td>0</td>\n",
       "    </tr>\n",
       "    <tr>\n",
       "      <th>4</th>\n",
       "      <td>0</td>\n",
       "      <td>0</td>\n",
       "      <td>0</td>\n",
       "      <td>0</td>\n",
       "      <td>0</td>\n",
       "      <td>0</td>\n",
       "      <td>0</td>\n",
       "      <td>0</td>\n",
       "      <td>0</td>\n",
       "      <td>0</td>\n",
       "      <td>...</td>\n",
       "      <td>0</td>\n",
       "      <td>0</td>\n",
       "      <td>0</td>\n",
       "      <td>0</td>\n",
       "      <td>0</td>\n",
       "      <td>0</td>\n",
       "      <td>0</td>\n",
       "      <td>0</td>\n",
       "      <td>0</td>\n",
       "      <td>0</td>\n",
       "    </tr>\n",
       "  </tbody>\n",
       "</table>\n",
       "<p>5 rows × 3000 columns</p>\n",
       "</div>"
      ],
      "text/plain": [
       "   000  10  100  100 000  11  12  13  14  15  16  ...  years  years ago  yes  \\\n",
       "0    0   0    0        0   0   0   0   0   0   0  ...      0          0    0   \n",
       "1    0   0    0        0   0   0   0   0   0   0  ...      0          0    0   \n",
       "2    0   0    0        0   0   0   0   0   0   0  ...      0          0    0   \n",
       "3    0   0    0        0   0   0   0   0   0   0  ...      0          0    0   \n",
       "4    0   0    0        0   0   0   0   0   0   0  ...      0          0    0   \n",
       "\n",
       "   yesterday  york  york times  young  youth  youtube  zero  \n",
       "0          0     0           0      0      0        0     0  \n",
       "1          0     0           0      0      0        0     0  \n",
       "2          0     0           0      0      0        0     0  \n",
       "3          0     0           0      0      0        0     0  \n",
       "4          0     0           0      0      0        0     0  \n",
       "\n",
       "[5 rows x 3000 columns]"
      ]
     },
     "execution_count": 13,
     "metadata": {},
     "output_type": "execute_result"
    }
   ],
   "source": [
    "X_train3_title.head()"
   ]
  },
  {
   "cell_type": "code",
   "execution_count": 14,
   "metadata": {},
   "outputs": [
    {
     "data": {
      "text/html": [
       "<div>\n",
       "<style scoped>\n",
       "    .dataframe tbody tr th:only-of-type {\n",
       "        vertical-align: middle;\n",
       "    }\n",
       "\n",
       "    .dataframe tbody tr th {\n",
       "        vertical-align: top;\n",
       "    }\n",
       "\n",
       "    .dataframe thead th {\n",
       "        text-align: right;\n",
       "    }\n",
       "</style>\n",
       "<table border=\"1\" class=\"dataframe\">\n",
       "  <thead>\n",
       "    <tr style=\"text-align: right;\">\n",
       "      <th></th>\n",
       "      <th>000</th>\n",
       "      <th>10</th>\n",
       "      <th>100</th>\n",
       "      <th>100 000</th>\n",
       "      <th>11</th>\n",
       "      <th>12</th>\n",
       "      <th>13</th>\n",
       "      <th>14</th>\n",
       "      <th>15</th>\n",
       "      <th>16</th>\n",
       "      <th>...</th>\n",
       "      <th>years</th>\n",
       "      <th>years ago</th>\n",
       "      <th>yes</th>\n",
       "      <th>yesterday</th>\n",
       "      <th>york</th>\n",
       "      <th>york times</th>\n",
       "      <th>young</th>\n",
       "      <th>youth</th>\n",
       "      <th>youtube</th>\n",
       "      <th>zero</th>\n",
       "    </tr>\n",
       "  </thead>\n",
       "  <tbody>\n",
       "    <tr>\n",
       "      <th>0</th>\n",
       "      <td>0</td>\n",
       "      <td>0</td>\n",
       "      <td>0</td>\n",
       "      <td>0</td>\n",
       "      <td>0</td>\n",
       "      <td>0</td>\n",
       "      <td>0</td>\n",
       "      <td>0</td>\n",
       "      <td>0</td>\n",
       "      <td>0</td>\n",
       "      <td>...</td>\n",
       "      <td>0</td>\n",
       "      <td>0</td>\n",
       "      <td>0</td>\n",
       "      <td>0</td>\n",
       "      <td>0</td>\n",
       "      <td>0</td>\n",
       "      <td>0</td>\n",
       "      <td>0</td>\n",
       "      <td>0</td>\n",
       "      <td>0</td>\n",
       "    </tr>\n",
       "    <tr>\n",
       "      <th>1</th>\n",
       "      <td>0</td>\n",
       "      <td>0</td>\n",
       "      <td>0</td>\n",
       "      <td>0</td>\n",
       "      <td>0</td>\n",
       "      <td>0</td>\n",
       "      <td>0</td>\n",
       "      <td>0</td>\n",
       "      <td>0</td>\n",
       "      <td>0</td>\n",
       "      <td>...</td>\n",
       "      <td>0</td>\n",
       "      <td>0</td>\n",
       "      <td>0</td>\n",
       "      <td>0</td>\n",
       "      <td>0</td>\n",
       "      <td>0</td>\n",
       "      <td>0</td>\n",
       "      <td>0</td>\n",
       "      <td>0</td>\n",
       "      <td>0</td>\n",
       "    </tr>\n",
       "    <tr>\n",
       "      <th>2</th>\n",
       "      <td>0</td>\n",
       "      <td>0</td>\n",
       "      <td>0</td>\n",
       "      <td>0</td>\n",
       "      <td>0</td>\n",
       "      <td>0</td>\n",
       "      <td>0</td>\n",
       "      <td>0</td>\n",
       "      <td>0</td>\n",
       "      <td>0</td>\n",
       "      <td>...</td>\n",
       "      <td>0</td>\n",
       "      <td>0</td>\n",
       "      <td>0</td>\n",
       "      <td>0</td>\n",
       "      <td>0</td>\n",
       "      <td>0</td>\n",
       "      <td>0</td>\n",
       "      <td>0</td>\n",
       "      <td>0</td>\n",
       "      <td>0</td>\n",
       "    </tr>\n",
       "    <tr>\n",
       "      <th>3</th>\n",
       "      <td>0</td>\n",
       "      <td>0</td>\n",
       "      <td>0</td>\n",
       "      <td>0</td>\n",
       "      <td>0</td>\n",
       "      <td>0</td>\n",
       "      <td>0</td>\n",
       "      <td>0</td>\n",
       "      <td>0</td>\n",
       "      <td>0</td>\n",
       "      <td>...</td>\n",
       "      <td>0</td>\n",
       "      <td>0</td>\n",
       "      <td>0</td>\n",
       "      <td>0</td>\n",
       "      <td>0</td>\n",
       "      <td>0</td>\n",
       "      <td>0</td>\n",
       "      <td>0</td>\n",
       "      <td>0</td>\n",
       "      <td>0</td>\n",
       "    </tr>\n",
       "    <tr>\n",
       "      <th>4</th>\n",
       "      <td>0</td>\n",
       "      <td>0</td>\n",
       "      <td>0</td>\n",
       "      <td>0</td>\n",
       "      <td>0</td>\n",
       "      <td>0</td>\n",
       "      <td>0</td>\n",
       "      <td>0</td>\n",
       "      <td>0</td>\n",
       "      <td>0</td>\n",
       "      <td>...</td>\n",
       "      <td>0</td>\n",
       "      <td>0</td>\n",
       "      <td>0</td>\n",
       "      <td>0</td>\n",
       "      <td>0</td>\n",
       "      <td>0</td>\n",
       "      <td>0</td>\n",
       "      <td>0</td>\n",
       "      <td>0</td>\n",
       "      <td>0</td>\n",
       "    </tr>\n",
       "  </tbody>\n",
       "</table>\n",
       "<p>5 rows × 3000 columns</p>\n",
       "</div>"
      ],
      "text/plain": [
       "   000  10  100  100 000  11  12  13  14  15  16  ...  years  years ago  yes  \\\n",
       "0    0   0    0        0   0   0   0   0   0   0  ...      0          0    0   \n",
       "1    0   0    0        0   0   0   0   0   0   0  ...      0          0    0   \n",
       "2    0   0    0        0   0   0   0   0   0   0  ...      0          0    0   \n",
       "3    0   0    0        0   0   0   0   0   0   0  ...      0          0    0   \n",
       "4    0   0    0        0   0   0   0   0   0   0  ...      0          0    0   \n",
       "\n",
       "   yesterday  york  york times  young  youth  youtube  zero  \n",
       "0          0     0           0      0      0        0     0  \n",
       "1          0     0           0      0      0        0     0  \n",
       "2          0     0           0      0      0        0     0  \n",
       "3          0     0           0      0      0        0     0  \n",
       "4          0     0           0      0      0        0     0  \n",
       "\n",
       "[5 rows x 3000 columns]"
      ]
     },
     "execution_count": 14,
     "metadata": {},
     "output_type": "execute_result"
    }
   ],
   "source": [
    "X_test3_title.head()"
   ]
  },
  {
   "cell_type": "markdown",
   "metadata": {},
   "source": [
    "### Separate out the URL and vectorize using whichever vectorizer performed better above\n",
    "---\n",
    "#### Use TfidfVectorizer because performed better"
   ]
  },
  {
   "cell_type": "code",
   "execution_count": 15,
   "metadata": {},
   "outputs": [],
   "source": [
    "tvec_url = TfidfVectorizer(max_features=500,   # add so don't exceed memory capacity\n",
    "                           stop_words='english',\n",
    "                           ngram_range=(1,2))\n",
    "\n",
    "X_train3_url = pd.DataFrame(tvec_url.fit_transform(X_train3['url_primary_long']).todense(),\n",
    "                              columns=tvec_url.get_feature_names())\n",
    "\n",
    "X_test3_url = pd.DataFrame(tvec_url.transform(X_test3['url_primary_long']).todense(),\n",
    "                              columns=tvec_url.get_feature_names())"
   ]
  },
  {
   "cell_type": "code",
   "execution_count": 16,
   "metadata": {
    "scrolled": true
   },
   "outputs": [
    {
     "data": {
      "text/html": [
       "<div>\n",
       "<style scoped>\n",
       "    .dataframe tbody tr th:only-of-type {\n",
       "        vertical-align: middle;\n",
       "    }\n",
       "\n",
       "    .dataframe tbody tr th {\n",
       "        vertical-align: top;\n",
       "    }\n",
       "\n",
       "    .dataframe thead th {\n",
       "        text-align: right;\n",
       "    }\n",
       "</style>\n",
       "<table border=\"1\" class=\"dataframe\">\n",
       "  <thead>\n",
       "    <tr style=\"text-align: right;\">\n",
       "      <th></th>\n",
       "      <th>71republic</th>\n",
       "      <th>71republic com</th>\n",
       "      <th>abcnews</th>\n",
       "      <th>abcnews com</th>\n",
       "      <th>ace</th>\n",
       "      <th>ace mu</th>\n",
       "      <th>addictinginfo</th>\n",
       "      <th>addictinginfo org</th>\n",
       "      <th>ajc</th>\n",
       "      <th>ajc com</th>\n",
       "      <th>...</th>\n",
       "      <th>wordpress com</th>\n",
       "      <th>wsj</th>\n",
       "      <th>wsj com</th>\n",
       "      <th>yahoo</th>\n",
       "      <th>yahoo com</th>\n",
       "      <th>youtu</th>\n",
       "      <th>youtube</th>\n",
       "      <th>youtube com</th>\n",
       "      <th>zerohedge</th>\n",
       "      <th>zerohedge com</th>\n",
       "    </tr>\n",
       "  </thead>\n",
       "  <tbody>\n",
       "    <tr>\n",
       "      <th>0</th>\n",
       "      <td>0.0</td>\n",
       "      <td>0.0</td>\n",
       "      <td>0.0</td>\n",
       "      <td>0.0</td>\n",
       "      <td>0.0</td>\n",
       "      <td>0.0</td>\n",
       "      <td>0.0</td>\n",
       "      <td>0.0</td>\n",
       "      <td>0.0</td>\n",
       "      <td>0.0</td>\n",
       "      <td>...</td>\n",
       "      <td>0.0</td>\n",
       "      <td>0.0</td>\n",
       "      <td>0.0</td>\n",
       "      <td>0.0</td>\n",
       "      <td>0.0</td>\n",
       "      <td>0.0</td>\n",
       "      <td>0.000000</td>\n",
       "      <td>0.000000</td>\n",
       "      <td>0.0</td>\n",
       "      <td>0.0</td>\n",
       "    </tr>\n",
       "    <tr>\n",
       "      <th>1</th>\n",
       "      <td>0.0</td>\n",
       "      <td>0.0</td>\n",
       "      <td>0.0</td>\n",
       "      <td>0.0</td>\n",
       "      <td>0.0</td>\n",
       "      <td>0.0</td>\n",
       "      <td>0.0</td>\n",
       "      <td>0.0</td>\n",
       "      <td>0.0</td>\n",
       "      <td>0.0</td>\n",
       "      <td>...</td>\n",
       "      <td>0.0</td>\n",
       "      <td>0.0</td>\n",
       "      <td>0.0</td>\n",
       "      <td>0.0</td>\n",
       "      <td>0.0</td>\n",
       "      <td>0.0</td>\n",
       "      <td>0.000000</td>\n",
       "      <td>0.000000</td>\n",
       "      <td>0.0</td>\n",
       "      <td>0.0</td>\n",
       "    </tr>\n",
       "    <tr>\n",
       "      <th>2</th>\n",
       "      <td>0.0</td>\n",
       "      <td>0.0</td>\n",
       "      <td>0.0</td>\n",
       "      <td>0.0</td>\n",
       "      <td>0.0</td>\n",
       "      <td>0.0</td>\n",
       "      <td>0.0</td>\n",
       "      <td>0.0</td>\n",
       "      <td>0.0</td>\n",
       "      <td>0.0</td>\n",
       "      <td>...</td>\n",
       "      <td>0.0</td>\n",
       "      <td>0.0</td>\n",
       "      <td>0.0</td>\n",
       "      <td>0.0</td>\n",
       "      <td>0.0</td>\n",
       "      <td>0.0</td>\n",
       "      <td>0.000000</td>\n",
       "      <td>0.000000</td>\n",
       "      <td>0.0</td>\n",
       "      <td>0.0</td>\n",
       "    </tr>\n",
       "    <tr>\n",
       "      <th>3</th>\n",
       "      <td>0.0</td>\n",
       "      <td>0.0</td>\n",
       "      <td>0.0</td>\n",
       "      <td>0.0</td>\n",
       "      <td>0.0</td>\n",
       "      <td>0.0</td>\n",
       "      <td>0.0</td>\n",
       "      <td>0.0</td>\n",
       "      <td>0.0</td>\n",
       "      <td>0.0</td>\n",
       "      <td>...</td>\n",
       "      <td>0.0</td>\n",
       "      <td>0.0</td>\n",
       "      <td>0.0</td>\n",
       "      <td>0.0</td>\n",
       "      <td>0.0</td>\n",
       "      <td>0.0</td>\n",
       "      <td>0.000000</td>\n",
       "      <td>0.000000</td>\n",
       "      <td>0.0</td>\n",
       "      <td>0.0</td>\n",
       "    </tr>\n",
       "    <tr>\n",
       "      <th>4</th>\n",
       "      <td>0.0</td>\n",
       "      <td>0.0</td>\n",
       "      <td>0.0</td>\n",
       "      <td>0.0</td>\n",
       "      <td>0.0</td>\n",
       "      <td>0.0</td>\n",
       "      <td>0.0</td>\n",
       "      <td>0.0</td>\n",
       "      <td>0.0</td>\n",
       "      <td>0.0</td>\n",
       "      <td>...</td>\n",
       "      <td>0.0</td>\n",
       "      <td>0.0</td>\n",
       "      <td>0.0</td>\n",
       "      <td>0.0</td>\n",
       "      <td>0.0</td>\n",
       "      <td>0.0</td>\n",
       "      <td>0.692414</td>\n",
       "      <td>0.692414</td>\n",
       "      <td>0.0</td>\n",
       "      <td>0.0</td>\n",
       "    </tr>\n",
       "  </tbody>\n",
       "</table>\n",
       "<p>5 rows × 500 columns</p>\n",
       "</div>"
      ],
      "text/plain": [
       "   71republic  71republic com  abcnews  abcnews com  ace  ace mu  \\\n",
       "0         0.0             0.0      0.0          0.0  0.0     0.0   \n",
       "1         0.0             0.0      0.0          0.0  0.0     0.0   \n",
       "2         0.0             0.0      0.0          0.0  0.0     0.0   \n",
       "3         0.0             0.0      0.0          0.0  0.0     0.0   \n",
       "4         0.0             0.0      0.0          0.0  0.0     0.0   \n",
       "\n",
       "   addictinginfo  addictinginfo org  ajc  ajc com  ...  wordpress com  wsj  \\\n",
       "0            0.0                0.0  0.0      0.0  ...            0.0  0.0   \n",
       "1            0.0                0.0  0.0      0.0  ...            0.0  0.0   \n",
       "2            0.0                0.0  0.0      0.0  ...            0.0  0.0   \n",
       "3            0.0                0.0  0.0      0.0  ...            0.0  0.0   \n",
       "4            0.0                0.0  0.0      0.0  ...            0.0  0.0   \n",
       "\n",
       "   wsj com  yahoo  yahoo com  youtu   youtube  youtube com  zerohedge  \\\n",
       "0      0.0    0.0        0.0    0.0  0.000000     0.000000        0.0   \n",
       "1      0.0    0.0        0.0    0.0  0.000000     0.000000        0.0   \n",
       "2      0.0    0.0        0.0    0.0  0.000000     0.000000        0.0   \n",
       "3      0.0    0.0        0.0    0.0  0.000000     0.000000        0.0   \n",
       "4      0.0    0.0        0.0    0.0  0.692414     0.692414        0.0   \n",
       "\n",
       "   zerohedge com  \n",
       "0            0.0  \n",
       "1            0.0  \n",
       "2            0.0  \n",
       "3            0.0  \n",
       "4            0.0  \n",
       "\n",
       "[5 rows x 500 columns]"
      ]
     },
     "execution_count": 16,
     "metadata": {},
     "output_type": "execute_result"
    }
   ],
   "source": [
    "X_train3_url.head()"
   ]
  },
  {
   "cell_type": "code",
   "execution_count": 17,
   "metadata": {},
   "outputs": [
    {
     "data": {
      "text/html": [
       "<div>\n",
       "<style scoped>\n",
       "    .dataframe tbody tr th:only-of-type {\n",
       "        vertical-align: middle;\n",
       "    }\n",
       "\n",
       "    .dataframe tbody tr th {\n",
       "        vertical-align: top;\n",
       "    }\n",
       "\n",
       "    .dataframe thead th {\n",
       "        text-align: right;\n",
       "    }\n",
       "</style>\n",
       "<table border=\"1\" class=\"dataframe\">\n",
       "  <thead>\n",
       "    <tr style=\"text-align: right;\">\n",
       "      <th></th>\n",
       "      <th>71republic</th>\n",
       "      <th>71republic com</th>\n",
       "      <th>abcnews</th>\n",
       "      <th>abcnews com</th>\n",
       "      <th>ace</th>\n",
       "      <th>ace mu</th>\n",
       "      <th>addictinginfo</th>\n",
       "      <th>addictinginfo org</th>\n",
       "      <th>ajc</th>\n",
       "      <th>ajc com</th>\n",
       "      <th>...</th>\n",
       "      <th>wordpress com</th>\n",
       "      <th>wsj</th>\n",
       "      <th>wsj com</th>\n",
       "      <th>yahoo</th>\n",
       "      <th>yahoo com</th>\n",
       "      <th>youtu</th>\n",
       "      <th>youtube</th>\n",
       "      <th>youtube com</th>\n",
       "      <th>zerohedge</th>\n",
       "      <th>zerohedge com</th>\n",
       "    </tr>\n",
       "  </thead>\n",
       "  <tbody>\n",
       "    <tr>\n",
       "      <th>0</th>\n",
       "      <td>0.0</td>\n",
       "      <td>0.0</td>\n",
       "      <td>0.0</td>\n",
       "      <td>0.0</td>\n",
       "      <td>0.0</td>\n",
       "      <td>0.0</td>\n",
       "      <td>0.0</td>\n",
       "      <td>0.0</td>\n",
       "      <td>0.0</td>\n",
       "      <td>0.0</td>\n",
       "      <td>...</td>\n",
       "      <td>0.0</td>\n",
       "      <td>0.0</td>\n",
       "      <td>0.0</td>\n",
       "      <td>0.0</td>\n",
       "      <td>0.0</td>\n",
       "      <td>0.0</td>\n",
       "      <td>0.0</td>\n",
       "      <td>0.0</td>\n",
       "      <td>0.0</td>\n",
       "      <td>0.0</td>\n",
       "    </tr>\n",
       "    <tr>\n",
       "      <th>1</th>\n",
       "      <td>0.0</td>\n",
       "      <td>0.0</td>\n",
       "      <td>0.0</td>\n",
       "      <td>0.0</td>\n",
       "      <td>0.0</td>\n",
       "      <td>0.0</td>\n",
       "      <td>0.0</td>\n",
       "      <td>0.0</td>\n",
       "      <td>0.0</td>\n",
       "      <td>0.0</td>\n",
       "      <td>...</td>\n",
       "      <td>0.0</td>\n",
       "      <td>0.0</td>\n",
       "      <td>0.0</td>\n",
       "      <td>0.0</td>\n",
       "      <td>0.0</td>\n",
       "      <td>0.0</td>\n",
       "      <td>0.0</td>\n",
       "      <td>0.0</td>\n",
       "      <td>0.0</td>\n",
       "      <td>0.0</td>\n",
       "    </tr>\n",
       "    <tr>\n",
       "      <th>2</th>\n",
       "      <td>0.0</td>\n",
       "      <td>0.0</td>\n",
       "      <td>0.0</td>\n",
       "      <td>0.0</td>\n",
       "      <td>0.0</td>\n",
       "      <td>0.0</td>\n",
       "      <td>0.0</td>\n",
       "      <td>0.0</td>\n",
       "      <td>0.0</td>\n",
       "      <td>0.0</td>\n",
       "      <td>...</td>\n",
       "      <td>0.0</td>\n",
       "      <td>0.0</td>\n",
       "      <td>0.0</td>\n",
       "      <td>0.0</td>\n",
       "      <td>0.0</td>\n",
       "      <td>0.0</td>\n",
       "      <td>0.0</td>\n",
       "      <td>0.0</td>\n",
       "      <td>0.0</td>\n",
       "      <td>0.0</td>\n",
       "    </tr>\n",
       "    <tr>\n",
       "      <th>3</th>\n",
       "      <td>0.0</td>\n",
       "      <td>0.0</td>\n",
       "      <td>0.0</td>\n",
       "      <td>0.0</td>\n",
       "      <td>0.0</td>\n",
       "      <td>0.0</td>\n",
       "      <td>0.0</td>\n",
       "      <td>0.0</td>\n",
       "      <td>0.0</td>\n",
       "      <td>0.0</td>\n",
       "      <td>...</td>\n",
       "      <td>0.0</td>\n",
       "      <td>0.0</td>\n",
       "      <td>0.0</td>\n",
       "      <td>0.0</td>\n",
       "      <td>0.0</td>\n",
       "      <td>0.0</td>\n",
       "      <td>0.0</td>\n",
       "      <td>0.0</td>\n",
       "      <td>0.0</td>\n",
       "      <td>0.0</td>\n",
       "    </tr>\n",
       "    <tr>\n",
       "      <th>4</th>\n",
       "      <td>0.0</td>\n",
       "      <td>0.0</td>\n",
       "      <td>0.0</td>\n",
       "      <td>0.0</td>\n",
       "      <td>0.0</td>\n",
       "      <td>0.0</td>\n",
       "      <td>0.0</td>\n",
       "      <td>0.0</td>\n",
       "      <td>0.0</td>\n",
       "      <td>0.0</td>\n",
       "      <td>...</td>\n",
       "      <td>0.0</td>\n",
       "      <td>0.0</td>\n",
       "      <td>0.0</td>\n",
       "      <td>0.0</td>\n",
       "      <td>0.0</td>\n",
       "      <td>0.0</td>\n",
       "      <td>0.0</td>\n",
       "      <td>0.0</td>\n",
       "      <td>0.0</td>\n",
       "      <td>0.0</td>\n",
       "    </tr>\n",
       "  </tbody>\n",
       "</table>\n",
       "<p>5 rows × 500 columns</p>\n",
       "</div>"
      ],
      "text/plain": [
       "   71republic  71republic com  abcnews  abcnews com  ace  ace mu  \\\n",
       "0         0.0             0.0      0.0          0.0  0.0     0.0   \n",
       "1         0.0             0.0      0.0          0.0  0.0     0.0   \n",
       "2         0.0             0.0      0.0          0.0  0.0     0.0   \n",
       "3         0.0             0.0      0.0          0.0  0.0     0.0   \n",
       "4         0.0             0.0      0.0          0.0  0.0     0.0   \n",
       "\n",
       "   addictinginfo  addictinginfo org  ajc  ajc com  ...  wordpress com  wsj  \\\n",
       "0            0.0                0.0  0.0      0.0  ...            0.0  0.0   \n",
       "1            0.0                0.0  0.0      0.0  ...            0.0  0.0   \n",
       "2            0.0                0.0  0.0      0.0  ...            0.0  0.0   \n",
       "3            0.0                0.0  0.0      0.0  ...            0.0  0.0   \n",
       "4            0.0                0.0  0.0      0.0  ...            0.0  0.0   \n",
       "\n",
       "   wsj com  yahoo  yahoo com  youtu  youtube  youtube com  zerohedge  \\\n",
       "0      0.0    0.0        0.0    0.0      0.0          0.0        0.0   \n",
       "1      0.0    0.0        0.0    0.0      0.0          0.0        0.0   \n",
       "2      0.0    0.0        0.0    0.0      0.0          0.0        0.0   \n",
       "3      0.0    0.0        0.0    0.0      0.0          0.0        0.0   \n",
       "4      0.0    0.0        0.0    0.0      0.0          0.0        0.0   \n",
       "\n",
       "   zerohedge com  \n",
       "0            0.0  \n",
       "1            0.0  \n",
       "2            0.0  \n",
       "3            0.0  \n",
       "4            0.0  \n",
       "\n",
       "[5 rows x 500 columns]"
      ]
     },
     "execution_count": 17,
     "metadata": {},
     "output_type": "execute_result"
    }
   ],
   "source": [
    "X_test3_url.head()"
   ]
  },
  {
   "cell_type": "code",
   "execution_count": 18,
   "metadata": {},
   "outputs": [
    {
     "data": {
      "text/plain": [
       "(160514, 500)"
      ]
     },
     "execution_count": 18,
     "metadata": {},
     "output_type": "execute_result"
    }
   ],
   "source": [
    "X_train3_url.shape"
   ]
  },
  {
   "cell_type": "markdown",
   "metadata": {},
   "source": [
    "### Combine the data frames with Words in the Title, URL, and Title Characteristics together"
   ]
  },
  {
   "cell_type": "code",
   "execution_count": 19,
   "metadata": {},
   "outputs": [],
   "source": [
    "#reset indices of title_length and title word_count so can add to the vectorized df's\n",
    "\n",
    "X_train3_lengths = X_train3[['title_length','title_word_count']].reset_index(drop=True)\n",
    "X_test3_lengths = X_test3[['title_length','title_word_count']].reset_index(drop=True)"
   ]
  },
  {
   "cell_type": "code",
   "execution_count": 20,
   "metadata": {},
   "outputs": [],
   "source": [
    "X_train_final = pd.concat([X_train3_title,X_train3_url,X_train3_lengths], axis=1)"
   ]
  },
  {
   "cell_type": "code",
   "execution_count": 21,
   "metadata": {},
   "outputs": [
    {
     "data": {
      "text/html": [
       "<div>\n",
       "<style scoped>\n",
       "    .dataframe tbody tr th:only-of-type {\n",
       "        vertical-align: middle;\n",
       "    }\n",
       "\n",
       "    .dataframe tbody tr th {\n",
       "        vertical-align: top;\n",
       "    }\n",
       "\n",
       "    .dataframe thead th {\n",
       "        text-align: right;\n",
       "    }\n",
       "</style>\n",
       "<table border=\"1\" class=\"dataframe\">\n",
       "  <thead>\n",
       "    <tr style=\"text-align: right;\">\n",
       "      <th></th>\n",
       "      <th>000</th>\n",
       "      <th>10</th>\n",
       "      <th>100</th>\n",
       "      <th>100 000</th>\n",
       "      <th>11</th>\n",
       "      <th>12</th>\n",
       "      <th>13</th>\n",
       "      <th>14</th>\n",
       "      <th>15</th>\n",
       "      <th>16</th>\n",
       "      <th>...</th>\n",
       "      <th>wsj com</th>\n",
       "      <th>yahoo</th>\n",
       "      <th>yahoo com</th>\n",
       "      <th>youtu</th>\n",
       "      <th>youtube</th>\n",
       "      <th>youtube com</th>\n",
       "      <th>zerohedge</th>\n",
       "      <th>zerohedge com</th>\n",
       "      <th>title_length</th>\n",
       "      <th>title_word_count</th>\n",
       "    </tr>\n",
       "  </thead>\n",
       "  <tbody>\n",
       "    <tr>\n",
       "      <th>0</th>\n",
       "      <td>0</td>\n",
       "      <td>0</td>\n",
       "      <td>0</td>\n",
       "      <td>0</td>\n",
       "      <td>0</td>\n",
       "      <td>0</td>\n",
       "      <td>0</td>\n",
       "      <td>0</td>\n",
       "      <td>0</td>\n",
       "      <td>0</td>\n",
       "      <td>...</td>\n",
       "      <td>0.0</td>\n",
       "      <td>0.0</td>\n",
       "      <td>0.0</td>\n",
       "      <td>0.0</td>\n",
       "      <td>0.000000</td>\n",
       "      <td>0.000000</td>\n",
       "      <td>0.0</td>\n",
       "      <td>0.0</td>\n",
       "      <td>77</td>\n",
       "      <td>12</td>\n",
       "    </tr>\n",
       "    <tr>\n",
       "      <th>1</th>\n",
       "      <td>0</td>\n",
       "      <td>0</td>\n",
       "      <td>0</td>\n",
       "      <td>0</td>\n",
       "      <td>0</td>\n",
       "      <td>0</td>\n",
       "      <td>0</td>\n",
       "      <td>0</td>\n",
       "      <td>0</td>\n",
       "      <td>0</td>\n",
       "      <td>...</td>\n",
       "      <td>0.0</td>\n",
       "      <td>0.0</td>\n",
       "      <td>0.0</td>\n",
       "      <td>0.0</td>\n",
       "      <td>0.000000</td>\n",
       "      <td>0.000000</td>\n",
       "      <td>0.0</td>\n",
       "      <td>0.0</td>\n",
       "      <td>76</td>\n",
       "      <td>16</td>\n",
       "    </tr>\n",
       "    <tr>\n",
       "      <th>2</th>\n",
       "      <td>0</td>\n",
       "      <td>0</td>\n",
       "      <td>0</td>\n",
       "      <td>0</td>\n",
       "      <td>0</td>\n",
       "      <td>0</td>\n",
       "      <td>0</td>\n",
       "      <td>0</td>\n",
       "      <td>0</td>\n",
       "      <td>0</td>\n",
       "      <td>...</td>\n",
       "      <td>0.0</td>\n",
       "      <td>0.0</td>\n",
       "      <td>0.0</td>\n",
       "      <td>0.0</td>\n",
       "      <td>0.000000</td>\n",
       "      <td>0.000000</td>\n",
       "      <td>0.0</td>\n",
       "      <td>0.0</td>\n",
       "      <td>65</td>\n",
       "      <td>11</td>\n",
       "    </tr>\n",
       "    <tr>\n",
       "      <th>3</th>\n",
       "      <td>0</td>\n",
       "      <td>0</td>\n",
       "      <td>0</td>\n",
       "      <td>0</td>\n",
       "      <td>0</td>\n",
       "      <td>0</td>\n",
       "      <td>0</td>\n",
       "      <td>0</td>\n",
       "      <td>0</td>\n",
       "      <td>0</td>\n",
       "      <td>...</td>\n",
       "      <td>0.0</td>\n",
       "      <td>0.0</td>\n",
       "      <td>0.0</td>\n",
       "      <td>0.0</td>\n",
       "      <td>0.000000</td>\n",
       "      <td>0.000000</td>\n",
       "      <td>0.0</td>\n",
       "      <td>0.0</td>\n",
       "      <td>86</td>\n",
       "      <td>15</td>\n",
       "    </tr>\n",
       "    <tr>\n",
       "      <th>4</th>\n",
       "      <td>0</td>\n",
       "      <td>0</td>\n",
       "      <td>0</td>\n",
       "      <td>0</td>\n",
       "      <td>0</td>\n",
       "      <td>0</td>\n",
       "      <td>0</td>\n",
       "      <td>0</td>\n",
       "      <td>0</td>\n",
       "      <td>0</td>\n",
       "      <td>...</td>\n",
       "      <td>0.0</td>\n",
       "      <td>0.0</td>\n",
       "      <td>0.0</td>\n",
       "      <td>0.0</td>\n",
       "      <td>0.692414</td>\n",
       "      <td>0.692414</td>\n",
       "      <td>0.0</td>\n",
       "      <td>0.0</td>\n",
       "      <td>32</td>\n",
       "      <td>4</td>\n",
       "    </tr>\n",
       "  </tbody>\n",
       "</table>\n",
       "<p>5 rows × 3502 columns</p>\n",
       "</div>"
      ],
      "text/plain": [
       "   000  10  100  100 000  11  12  13  14  15  16  ...  wsj com  yahoo  \\\n",
       "0    0   0    0        0   0   0   0   0   0   0  ...      0.0    0.0   \n",
       "1    0   0    0        0   0   0   0   0   0   0  ...      0.0    0.0   \n",
       "2    0   0    0        0   0   0   0   0   0   0  ...      0.0    0.0   \n",
       "3    0   0    0        0   0   0   0   0   0   0  ...      0.0    0.0   \n",
       "4    0   0    0        0   0   0   0   0   0   0  ...      0.0    0.0   \n",
       "\n",
       "   yahoo com  youtu   youtube  youtube com  zerohedge  zerohedge com  \\\n",
       "0        0.0    0.0  0.000000     0.000000        0.0            0.0   \n",
       "1        0.0    0.0  0.000000     0.000000        0.0            0.0   \n",
       "2        0.0    0.0  0.000000     0.000000        0.0            0.0   \n",
       "3        0.0    0.0  0.000000     0.000000        0.0            0.0   \n",
       "4        0.0    0.0  0.692414     0.692414        0.0            0.0   \n",
       "\n",
       "   title_length  title_word_count  \n",
       "0            77                12  \n",
       "1            76                16  \n",
       "2            65                11  \n",
       "3            86                15  \n",
       "4            32                 4  \n",
       "\n",
       "[5 rows x 3502 columns]"
      ]
     },
     "execution_count": 21,
     "metadata": {},
     "output_type": "execute_result"
    }
   ],
   "source": [
    "X_train_final.head()"
   ]
  },
  {
   "cell_type": "code",
   "execution_count": 22,
   "metadata": {},
   "outputs": [
    {
     "data": {
      "text/plain": [
       "000                 0\n",
       "says trump          0\n",
       "sc                  0\n",
       "scalia              0\n",
       "scam                0\n",
       "                   ..\n",
       "happened            0\n",
       "happening           0\n",
       "happens             0\n",
       "half                0\n",
       "title_word_count    0\n",
       "Length: 3502, dtype: int64"
      ]
     },
     "execution_count": 22,
     "metadata": {},
     "output_type": "execute_result"
    }
   ],
   "source": [
    "X_train_final.isnull().sum().sort_values()"
   ]
  },
  {
   "cell_type": "code",
   "execution_count": 23,
   "metadata": {},
   "outputs": [],
   "source": [
    "X_test_final = pd.concat([X_test3_title,X_test3_url,X_test3_lengths], axis = 1)"
   ]
  },
  {
   "cell_type": "code",
   "execution_count": 24,
   "metadata": {},
   "outputs": [
    {
     "data": {
      "text/html": [
       "<div>\n",
       "<style scoped>\n",
       "    .dataframe tbody tr th:only-of-type {\n",
       "        vertical-align: middle;\n",
       "    }\n",
       "\n",
       "    .dataframe tbody tr th {\n",
       "        vertical-align: top;\n",
       "    }\n",
       "\n",
       "    .dataframe thead th {\n",
       "        text-align: right;\n",
       "    }\n",
       "</style>\n",
       "<table border=\"1\" class=\"dataframe\">\n",
       "  <thead>\n",
       "    <tr style=\"text-align: right;\">\n",
       "      <th></th>\n",
       "      <th>000</th>\n",
       "      <th>10</th>\n",
       "      <th>100</th>\n",
       "      <th>100 000</th>\n",
       "      <th>11</th>\n",
       "      <th>12</th>\n",
       "      <th>13</th>\n",
       "      <th>14</th>\n",
       "      <th>15</th>\n",
       "      <th>16</th>\n",
       "      <th>...</th>\n",
       "      <th>wsj com</th>\n",
       "      <th>yahoo</th>\n",
       "      <th>yahoo com</th>\n",
       "      <th>youtu</th>\n",
       "      <th>youtube</th>\n",
       "      <th>youtube com</th>\n",
       "      <th>zerohedge</th>\n",
       "      <th>zerohedge com</th>\n",
       "      <th>title_length</th>\n",
       "      <th>title_word_count</th>\n",
       "    </tr>\n",
       "  </thead>\n",
       "  <tbody>\n",
       "    <tr>\n",
       "      <th>0</th>\n",
       "      <td>0</td>\n",
       "      <td>0</td>\n",
       "      <td>0</td>\n",
       "      <td>0</td>\n",
       "      <td>0</td>\n",
       "      <td>0</td>\n",
       "      <td>0</td>\n",
       "      <td>0</td>\n",
       "      <td>0</td>\n",
       "      <td>0</td>\n",
       "      <td>...</td>\n",
       "      <td>0.0</td>\n",
       "      <td>0.0</td>\n",
       "      <td>0.0</td>\n",
       "      <td>0.0</td>\n",
       "      <td>0.0</td>\n",
       "      <td>0.0</td>\n",
       "      <td>0.0</td>\n",
       "      <td>0.0</td>\n",
       "      <td>80</td>\n",
       "      <td>9</td>\n",
       "    </tr>\n",
       "    <tr>\n",
       "      <th>1</th>\n",
       "      <td>0</td>\n",
       "      <td>0</td>\n",
       "      <td>0</td>\n",
       "      <td>0</td>\n",
       "      <td>0</td>\n",
       "      <td>0</td>\n",
       "      <td>0</td>\n",
       "      <td>0</td>\n",
       "      <td>0</td>\n",
       "      <td>0</td>\n",
       "      <td>...</td>\n",
       "      <td>0.0</td>\n",
       "      <td>0.0</td>\n",
       "      <td>0.0</td>\n",
       "      <td>0.0</td>\n",
       "      <td>0.0</td>\n",
       "      <td>0.0</td>\n",
       "      <td>0.0</td>\n",
       "      <td>0.0</td>\n",
       "      <td>26</td>\n",
       "      <td>4</td>\n",
       "    </tr>\n",
       "    <tr>\n",
       "      <th>2</th>\n",
       "      <td>0</td>\n",
       "      <td>0</td>\n",
       "      <td>0</td>\n",
       "      <td>0</td>\n",
       "      <td>0</td>\n",
       "      <td>0</td>\n",
       "      <td>0</td>\n",
       "      <td>0</td>\n",
       "      <td>0</td>\n",
       "      <td>0</td>\n",
       "      <td>...</td>\n",
       "      <td>0.0</td>\n",
       "      <td>0.0</td>\n",
       "      <td>0.0</td>\n",
       "      <td>0.0</td>\n",
       "      <td>0.0</td>\n",
       "      <td>0.0</td>\n",
       "      <td>0.0</td>\n",
       "      <td>0.0</td>\n",
       "      <td>83</td>\n",
       "      <td>11</td>\n",
       "    </tr>\n",
       "    <tr>\n",
       "      <th>3</th>\n",
       "      <td>0</td>\n",
       "      <td>0</td>\n",
       "      <td>0</td>\n",
       "      <td>0</td>\n",
       "      <td>0</td>\n",
       "      <td>0</td>\n",
       "      <td>0</td>\n",
       "      <td>0</td>\n",
       "      <td>0</td>\n",
       "      <td>0</td>\n",
       "      <td>...</td>\n",
       "      <td>0.0</td>\n",
       "      <td>0.0</td>\n",
       "      <td>0.0</td>\n",
       "      <td>0.0</td>\n",
       "      <td>0.0</td>\n",
       "      <td>0.0</td>\n",
       "      <td>0.0</td>\n",
       "      <td>0.0</td>\n",
       "      <td>294</td>\n",
       "      <td>47</td>\n",
       "    </tr>\n",
       "    <tr>\n",
       "      <th>4</th>\n",
       "      <td>0</td>\n",
       "      <td>0</td>\n",
       "      <td>0</td>\n",
       "      <td>0</td>\n",
       "      <td>0</td>\n",
       "      <td>0</td>\n",
       "      <td>0</td>\n",
       "      <td>0</td>\n",
       "      <td>0</td>\n",
       "      <td>0</td>\n",
       "      <td>...</td>\n",
       "      <td>0.0</td>\n",
       "      <td>0.0</td>\n",
       "      <td>0.0</td>\n",
       "      <td>0.0</td>\n",
       "      <td>0.0</td>\n",
       "      <td>0.0</td>\n",
       "      <td>0.0</td>\n",
       "      <td>0.0</td>\n",
       "      <td>74</td>\n",
       "      <td>11</td>\n",
       "    </tr>\n",
       "  </tbody>\n",
       "</table>\n",
       "<p>5 rows × 3502 columns</p>\n",
       "</div>"
      ],
      "text/plain": [
       "   000  10  100  100 000  11  12  13  14  15  16  ...  wsj com  yahoo  \\\n",
       "0    0   0    0        0   0   0   0   0   0   0  ...      0.0    0.0   \n",
       "1    0   0    0        0   0   0   0   0   0   0  ...      0.0    0.0   \n",
       "2    0   0    0        0   0   0   0   0   0   0  ...      0.0    0.0   \n",
       "3    0   0    0        0   0   0   0   0   0   0  ...      0.0    0.0   \n",
       "4    0   0    0        0   0   0   0   0   0   0  ...      0.0    0.0   \n",
       "\n",
       "   yahoo com  youtu  youtube  youtube com  zerohedge  zerohedge com  \\\n",
       "0        0.0    0.0      0.0          0.0        0.0            0.0   \n",
       "1        0.0    0.0      0.0          0.0        0.0            0.0   \n",
       "2        0.0    0.0      0.0          0.0        0.0            0.0   \n",
       "3        0.0    0.0      0.0          0.0        0.0            0.0   \n",
       "4        0.0    0.0      0.0          0.0        0.0            0.0   \n",
       "\n",
       "   title_length  title_word_count  \n",
       "0            80                 9  \n",
       "1            26                 4  \n",
       "2            83                11  \n",
       "3           294                47  \n",
       "4            74                11  \n",
       "\n",
       "[5 rows x 3502 columns]"
      ]
     },
     "execution_count": 24,
     "metadata": {},
     "output_type": "execute_result"
    }
   ],
   "source": [
    "X_test_final.head()"
   ]
  },
  {
   "cell_type": "code",
   "execution_count": 25,
   "metadata": {},
   "outputs": [
    {
     "data": {
      "text/plain": [
       "000                 0\n",
       "says trump          0\n",
       "sc                  0\n",
       "scalia              0\n",
       "scam                0\n",
       "                   ..\n",
       "happened            0\n",
       "happening           0\n",
       "happens             0\n",
       "half                0\n",
       "title_word_count    0\n",
       "Length: 3502, dtype: int64"
      ]
     },
     "execution_count": 25,
     "metadata": {},
     "output_type": "execute_result"
    }
   ],
   "source": [
    "X_test_final.isnull().sum().sort_values()"
   ]
  },
  {
   "cell_type": "code",
   "execution_count": 36,
   "metadata": {},
   "outputs": [],
   "source": [
    "# need to scale\n",
    "\n",
    "ss = StandardScaler()\n",
    "ss.fit(X_train_final)\n",
    "\n",
    "X_train_final_s = ss.transform(X_train_final)\n",
    "X_test_final_s = ss.transform(X_test_final)"
   ]
  },
  {
   "cell_type": "markdown",
   "metadata": {},
   "source": [
    "### Model Group 3a: \n",
    " * **Based on:** Words in the Title, URL, and Title Characteristics\n",
    " * **Vectorizer:** \n",
    "   * **for Words in Title:** CountVectorizer\n",
    "   * **for URL:** TfidfVectorizer\n",
    " * **Model:** Multinomial Naive Bays"
   ]
  },
  {
   "cell_type": "code",
   "execution_count": 33,
   "metadata": {},
   "outputs": [
    {
     "name": "stdout",
     "output_type": "stream",
     "text": [
      "Train score is:  0.7780878926448783\n",
      "Test score is:  0.7722082048406691\n",
      "----------------------------------------------------------------------\n",
      "Specificity:  0.7132990968655923\n",
      "Sensitivity:  0.815247274961995\n"
     ]
    },
    {
     "data": {
      "image/png": "[encoded data removed]",
      "text/plain": [
       "<Figure size 432x288 with 2 Axes>"
      ]
     },
     "metadata": {
      "needs_background": "light"
     },
     "output_type": "display_data"
    }
   ],
   "source": [
    "nb_final = MultinomialNB()\n",
    "\n",
    "nb_final.fit(X_train_final, y_train3)\n",
    "\n",
    "results_cleaned(nb_final,X_test_final,y_test3, X_train_final, y_train3)"
   ]
  },
  {
   "cell_type": "markdown",
   "metadata": {},
   "source": [
    "### Model Group 3b: \n",
    " * **Based on:** Words in the Title, URL, and Title Characteristics\n",
    " * **Vectorizer:** \n",
    "   * **for Words in Title:** CountVectorizer\n",
    "   * **for URL:** TfidfVectorizer\n",
    " * **Model:** Logistic"
   ]
  },
  {
   "cell_type": "code",
   "execution_count": 36,
   "metadata": {},
   "outputs": [
    {
     "name": "stdout",
     "output_type": "stream",
     "text": [
      "Train score is:  0.7996000348879225\n",
      "Test score is:  0.7845621904494907\n",
      "----------------------------------------------------------------------\n",
      "Specificity:  0.7040021250221357\n",
      "Sensitivity:  0.8434194779571109\n"
     ]
    },
    {
     "data": {
      "image/png": "[encoded data removed]",
      "text/plain": [
       "<Figure size 432x288 with 2 Axes>"
      ]
     },
     "metadata": {
      "needs_background": "light"
     },
     "output_type": "display_data"
    }
   ],
   "source": [
    "logreg_final = LogisticRegression(C=1,\n",
    "                                  solver='liblinear',\n",
    "                                  penalty='l1')\n",
    "\n",
    "logreg_final.fit(X_train_final_s, y_train3)\n",
    "\n",
    "results_cleaned(logreg_final,X_test_final_s,y_test3, X_train_final_s, y_train3)"
   ]
  },
  {
   "cell_type": "code",
   "execution_count": 37,
   "metadata": {
    "scrolled": false
   },
   "outputs": [
    {
     "name": "stdout",
     "output_type": "stream",
     "text": [
      "Train score is:  0.7990144161879961\n",
      "Test score is:  0.7878516026539576\n",
      "----------------------------------------------------------------------\n",
      "Specificity:  0.8446809198822655\n",
      "Sensitivity:  0.7100672923676288\n"
     ]
    },
    {
     "data": {
      "image/png": "[encoded data removed]",
      "text/plain": [
       "<Figure size 432x288 with 2 Axes>"
      ]
     },
     "metadata": {
      "needs_background": "light"
     },
     "output_type": "display_data"
    }
   ],
   "source": [
    "logreg_final = LogisticRegression(C=1,\n",
    "                                  solver='liblinear',\n",
    "                                  penalty='l1')\n",
    "\n",
    "logreg_final.fit(X_train_final_s, y_train3)\n",
    "\n",
    "results_cleaned(logreg_final,X_test_final_s,y_test3, X_train_final_s, y_train3)"
   ]
  },
  {
   "cell_type": "markdown",
   "metadata": {},
   "source": [
    "### Performs best of Group 3 - so analyze the results"
   ]
  },
  {
   "cell_type": "code",
   "execution_count": 38,
   "metadata": {},
   "outputs": [
    {
     "data": {
      "text/html": [
       "<div>\n",
       "<style scoped>\n",
       "    .dataframe tbody tr th:only-of-type {\n",
       "        vertical-align: middle;\n",
       "    }\n",
       "\n",
       "    .dataframe tbody tr th {\n",
       "        vertical-align: top;\n",
       "    }\n",
       "\n",
       "    .dataframe thead th {\n",
       "        text-align: right;\n",
       "    }\n",
       "</style>\n",
       "<table border=\"1\" class=\"dataframe\">\n",
       "  <thead>\n",
       "    <tr style=\"text-align: right;\">\n",
       "      <th></th>\n",
       "      <th>coef</th>\n",
       "      <th>feature</th>\n",
       "    </tr>\n",
       "  </thead>\n",
       "  <tbody>\n",
       "    <tr>\n",
       "      <th>0</th>\n",
       "      <td>1.001104</td>\n",
       "      <td>000</td>\n",
       "    </tr>\n",
       "    <tr>\n",
       "      <th>1</th>\n",
       "      <td>1.009655</td>\n",
       "      <td>10</td>\n",
       "    </tr>\n",
       "    <tr>\n",
       "      <th>2</th>\n",
       "      <td>0.995522</td>\n",
       "      <td>100</td>\n",
       "    </tr>\n",
       "    <tr>\n",
       "      <th>3</th>\n",
       "      <td>1.002689</td>\n",
       "      <td>100 000</td>\n",
       "    </tr>\n",
       "    <tr>\n",
       "      <th>4</th>\n",
       "      <td>1.017734</td>\n",
       "      <td>11</td>\n",
       "    </tr>\n",
       "  </tbody>\n",
       "</table>\n",
       "</div>"
      ],
      "text/plain": [
       "       coef  feature\n",
       "0  1.001104      000\n",
       "1  1.009655       10\n",
       "2  0.995522      100\n",
       "3  1.002689  100 000\n",
       "4  1.017734       11"
      ]
     },
     "execution_count": 38,
     "metadata": {},
     "output_type": "execute_result"
    }
   ],
   "source": [
    "logreg_final.coef_\n",
    "\n",
    "coefs_final = np.exp(logreg_final.coef_)\n",
    "cols_final = X_train_final.columns\n",
    "\n",
    "coefs_final_df = pd.DataFrame(zip(coefs_final[0], cols_final), columns = ['coef','feature'])\n",
    "\n",
    "coefs_final_df.head()\n",
    " \n",
    "coefs_final_df.sort_values('coef',ascending = False).head(25).set_index('feature')"
   ]
  },
  {
   "cell_type": "code",
   "execution_count": 51,
   "metadata": {},
   "outputs": [
    {
     "data": {
      "text/plain": [
       "<matplotlib.axes._subplots.AxesSubplot at 0x248b57ed1f0>"
      ]
     },
     "execution_count": 51,
     "metadata": {},
     "output_type": "execute_result"
    },
    {
     "data": {
      "image/png": "[encoded data removed]",
      "text/plain": [
       "<Figure size 216x720 with 2 Axes>"
      ]
     },
     "metadata": {
      "needs_background": "light"
     },
     "output_type": "display_data"
    }
   ],
   "source": [
    "plt.figure(figsize = (3,10))\n",
    "sns.heatmap(coefs_final_df.sort_values('coef',ascending = False).head(25).set_index('feature'),\n",
    "           cmap = 'Blues',\n",
    "           vmin = 1,\n",
    "           annot = True)"
   ]
  },
  {
   "cell_type": "markdown",
   "metadata": {},
   "source": [
    "### Model Group 3c: \n",
    " * **Based on:** Words in the Title, URL, and Title Characteristics\n",
    " * **Vectorizer:** \n",
    "   * **for Words in Title:** CountVectorizer\n",
    "   * **for URL:** TfidfVectorizer\n",
    " * **Model:** Random Forest"
   ]
  },
  {
   "cell_type": "markdown",
   "metadata": {},
   "source": [
    "### Note: Not Run due to lack of time"
   ]
  },
  {
   "cell_type": "markdown",
   "metadata": {},
   "source": [
    "**After completing the model with Words in the Title, URL, and Title Characteristics, I noticed that the Specificity and Sensitivity Changed compared to the models based on Words in the Title and URL, so I look at the model based on Title Characteristics to see if that's the reason for the change in these to values.**"
   ]
  },
  {
   "cell_type": "markdown",
   "metadata": {},
   "source": [
    "---\n",
    "## Fourth Group of Models:  Title Characteristics (Title Length and Title Word Count)\n",
    "---\n",
    "\n",
    "### try 2 models: Multinomial Naive Bayes, Logistic \n",
    "### (Random Forests takes a long time, so I don't bother for the purpose of this)\n",
    "---"
   ]
  },
  {
   "cell_type": "code",
   "execution_count": 26,
   "metadata": {},
   "outputs": [],
   "source": [
    "X_train3_lengths = X_train3[['title_length','title_word_count']].reset_index(drop=True)\n",
    "X_test3_lengths = X_test3[['title_length','title_word_count']].reset_index(drop=True)"
   ]
  },
  {
   "cell_type": "code",
   "execution_count": 27,
   "metadata": {},
   "outputs": [],
   "source": [
    "# need to scale\n",
    "\n",
    "ss = StandardScaler()\n",
    "ss.fit(X_train3_lengths)\n",
    "\n",
    "X_train_lengths_s = ss.transform(X_train3_lengths)\n",
    "X_test_lengths_s = ss.transform(X_test3_lengths)"
   ]
  },
  {
   "cell_type": "markdown",
   "metadata": {},
   "source": [
    "### Model Group 4a: \n",
    " * **Based on:** Title Characteristics (Title Length and Title Word Count)\n",
    " * **Model:** Multinomial Naive Bayes"
   ]
  },
  {
   "cell_type": "code",
   "execution_count": 16,
   "metadata": {},
   "outputs": [
    {
     "name": "stdout",
     "output_type": "stream",
     "text": [
      "Train score is:  0.5778374472008672\n",
      "Test score is:  0.5778338473039902\n",
      "----------------------------------------------------------------------\n",
      "Specificity:  0.0\n",
      "Sensitivity:  1.0\n"
     ]
    },
    {
     "data": {
      "image/png": "[encoded data removed]",
      "text/plain": [
       "<Figure size 432x288 with 2 Axes>"
      ]
     },
     "metadata": {
      "needs_background": "light"
     },
     "output_type": "display_data"
    }
   ],
   "source": [
    "nb_final_short = MultinomialNB()\n",
    "\n",
    "nb_final_short.fit(X_train3_lengths, y_train3)\n",
    "\n",
    "results_cleaned(nb_final_short,X_test3_lengths,y_test3, X_train3_lengths, y_train3)"
   ]
  },
  {
   "cell_type": "markdown",
   "metadata": {},
   "source": [
    "### Model Group 4b: \n",
    " * **Based on:** Title Characteristics (Title Length and Title Word Count)\n",
    " * **Model:** Logistic"
   ]
  },
  {
   "cell_type": "code",
   "execution_count": 30,
   "metadata": {},
   "outputs": [
    {
     "name": "stdout",
     "output_type": "stream",
     "text": [
      "Train score is:  0.5850766911297457\n",
      "Test score is:  0.5824689281375572\n",
      "----------------------------------------------------------------------\n",
      "Specificity:  0.8276676262250542\n",
      "Sensitivity:  0.2468567380910218\n"
     ]
    },
    {
     "data": {
      "image/png": "[encoded data removed]",
      "text/plain": [
       "<Figure size 432x288 with 2 Axes>"
      ]
     },
     "metadata": {
      "needs_background": "light"
     },
     "output_type": "display_data"
    }
   ],
   "source": [
    "logreg_final_short = LogisticRegression(C=1,\n",
    "                                  solver='liblinear',\n",
    "                                  penalty='l1')\n",
    "\n",
    "logreg_final_short.fit(X_train_lengths_s, y_train3)\n",
    "\n",
    "results_cleaned(logreg_final_short,X_test_lengths_s,y_test3, X_train_lengths_s, y_train3)"
   ]
  },
  {
   "cell_type": "code",
   "execution_count": 33,
   "metadata": {},
   "outputs": [
    {
     "data": {
      "text/plain": [
       "array([[-0.13112893, -0.18004024],\n",
       "       [-0.14793367,  0.22374174],\n",
       "       [-0.33278574, -0.28098574],\n",
       "       ...,\n",
       "       [-0.71929461, -0.58382223],\n",
       "       [ 1.43171129,  1.23319672],\n",
       "       [-0.4168094 , -0.58382223]])"
      ]
     },
     "execution_count": 33,
     "metadata": {},
     "output_type": "execute_result"
    }
   ],
   "source": [
    "X_train_lengths_s"
   ]
  },
  {
   "cell_type": "markdown",
   "metadata": {},
   "source": [
    "### Performs best of Group 4 - so analyze the results"
   ]
  },
  {
   "cell_type": "code",
   "execution_count": 34,
   "metadata": {},
   "outputs": [
    {
     "data": {
      "text/html": [
       "<div>\n",
       "<style scoped>\n",
       "    .dataframe tbody tr th:only-of-type {\n",
       "        vertical-align: middle;\n",
       "    }\n",
       "\n",
       "    .dataframe tbody tr th {\n",
       "        vertical-align: top;\n",
       "    }\n",
       "\n",
       "    .dataframe thead th {\n",
       "        text-align: right;\n",
       "    }\n",
       "</style>\n",
       "<table border=\"1\" class=\"dataframe\">\n",
       "  <thead>\n",
       "    <tr style=\"text-align: right;\">\n",
       "      <th></th>\n",
       "      <th>coef</th>\n",
       "      <th>feature</th>\n",
       "    </tr>\n",
       "  </thead>\n",
       "  <tbody>\n",
       "    <tr>\n",
       "      <th>0</th>\n",
       "      <td>0.761149</td>\n",
       "      <td>title_length</td>\n",
       "    </tr>\n",
       "    <tr>\n",
       "      <th>1</th>\n",
       "      <td>0.781367</td>\n",
       "      <td>title_word_count</td>\n",
       "    </tr>\n",
       "  </tbody>\n",
       "</table>\n",
       "</div>"
      ],
      "text/plain": [
       "       coef           feature\n",
       "0  0.761149      title_length\n",
       "1  0.781367  title_word_count"
      ]
     },
     "execution_count": 34,
     "metadata": {},
     "output_type": "execute_result"
    }
   ],
   "source": [
    "logreg_final_short.coef_\n",
    "\n",
    "coef_length = np.exp(logreg_final_short.coef_)\n",
    "cols_length = X_train3_lengths.columns\n",
    "\n",
    "coefs_df_length = pd.DataFrame(zip(coef_length[0],cols_length), columns = ['coef','feature'])\n",
    "\n",
    "coefs_df_length.head()"
   ]
  },
  {
   "cell_type": "code",
   "execution_count": 55,
   "metadata": {},
   "outputs": [
    {
     "data": {
      "text/plain": [
       "<matplotlib.axes._subplots.AxesSubplot at 0x248b8d7a490>"
      ]
     },
     "execution_count": 55,
     "metadata": {},
     "output_type": "execute_result"
    },
    {
     "data": {
      "image/png": "[encoded data removed]",
      "text/plain": [
       "<Figure size 216x216 with 2 Axes>"
      ]
     },
     "metadata": {
      "needs_background": "light"
     },
     "output_type": "display_data"
    }
   ],
   "source": [
    "plt.figure(figsize = (3,3))\n",
    "sns.heatmap(coefs_df_length.sort_values('coef',ascending = False).head(25).set_index('feature'),\n",
    "           cmap = 'Blues',\n",
    "           vmin = .75,\n",
    "           annot = True)"
   ]
  }
 ],
 "metadata": {
  "kernelspec": {
   "display_name": "Python 3",
   "language": "python",
   "name": "python3"
  },
  "language_info": {
   "codemirror_mode": {
    "name": "ipython",
    "version": 3
   },
   "file_extension": ".py",
   "mimetype": "text/x-python",
   "name": "python",
   "nbconvert_exporter": "python",
   "pygments_lexer": "ipython3",
   "version": "3.8.3"
  }
 },
 "nbformat": 4,
 "nbformat_minor": 4
}
